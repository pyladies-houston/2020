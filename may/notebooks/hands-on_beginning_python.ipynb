{
 "cells": [
  {
   "cell_type": "markdown",
   "metadata": {},
   "source": [
    "## Hands-on Beginning Python\n",
    "\n",
    "### Reference\n",
    "\n",
    "https://us.pycon.org/2020/schedule/presentation/53/\n",
    "    \n",
    "https://github.com/mattharrison/Tiny-Python-3.8-Notebook\n",
    "\n",
    "### Data\n",
    "\n",
    "https://github.com/COVID19Tracking/covid-tracking-data\n",
    "    "
   ]
  },
  {
   "cell_type": "markdown",
   "metadata": {},
   "source": [
    "#### Imports\n",
    "\n",
    "https://www.python.org/dev/peps/pep-0008/#imports\n"
   ]
  },
  {
   "cell_type": "code",
   "execution_count": 1,
   "metadata": {},
   "outputs": [],
   "source": [
    "# First come standard libraries, in alphabetical order\n",
    "import csv\n",
    "import sys\n",
    "import urllib.request as req\n",
    "\n",
    "# After a blank line, import third-party libraries\n",
    "import matplotlib.pyplot as plt\n",
    "import pandas as pd\n",
    "\n",
    "# After another blank line, import local libraries"
   ]
  },
  {
   "cell_type": "code",
   "execution_count": 2,
   "metadata": {},
   "outputs": [
    {
     "data": {
      "text/plain": [
       "'3.8.2 | packaged by conda-forge | (default, Apr 24 2020, 07:56:27) \\n[Clang 9.0.1 ]'"
      ]
     },
     "execution_count": 2,
     "metadata": {},
     "output_type": "execute_result"
    }
   ],
   "source": [
    "# python version\n",
    "sys.version"
   ]
  },
  {
   "cell_type": "code",
   "execution_count": 3,
   "metadata": {},
   "outputs": [
    {
     "name": "stdout",
     "output_type": "stream",
     "text": [
      "/Users/jwatt/conda/envs/tiny_python_38_b/bin/python\n"
     ]
    }
   ],
   "source": [
    "! which python"
   ]
  },
  {
   "cell_type": "code",
   "execution_count": 4,
   "metadata": {},
   "outputs": [
    {
     "data": {
      "text/plain": [
       "'1.0.3'"
      ]
     },
     "execution_count": 4,
     "metadata": {},
     "output_type": "execute_result"
    }
   ],
   "source": [
    "pd.__version__"
   ]
  },
  {
   "cell_type": "markdown",
   "metadata": {},
   "source": [
    "#### Running python\n",
    "\n",
    "* REPL\n",
    "* ipython\n",
    "* bpython\n",
    "<br>\n",
    "* jupyter notebook"
   ]
  },
  {
   "cell_type": "markdown",
   "metadata": {},
   "source": [
    "#### Learning should be\n",
    "* D - Decide\n",
    "* R - Relax\n",
    "* M - Motivation\n",
    "* O - Observe\n",
    "* M - Mechanics"
   ]
  },
  {
   "cell_type": "markdown",
   "metadata": {},
   "source": [
    "### Environments\n",
    "\n",
    "* Refer to `python_envs.rst`\n",
    "https://github.com/pyladies-houston/2020/tree/master/may\n",
    "* virtual environments are not to be shared, so try to create on your own for your specific needs.\n",
    "* You might want to stop here and to do so.\n",
    "* Discussion of environemnts will limit to 15 min."
   ]
  },
  {
   "cell_type": "markdown",
   "metadata": {},
   "source": [
    "#### IDLE - Integrated Development and Learning Environment\n",
    "\n",
    "https://docs.python.org/3/library/idle.html"
   ]
  },
  {
   "cell_type": "raw",
   "metadata": {},
   "source": [
    "# create a sandbox in terminal\n",
    "\n",
    ">>> python3 -m idlelib.idle\n",
    "\n",
    "# REPL (comes witih env) - read, evaluate, print, loop \n",
    "# organge - keywords, syntax\n",
    "# purple - builtin"
   ]
  },
  {
   "cell_type": "markdown",
   "metadata": {},
   "source": [
    "* Fetch URL"
   ]
  },
  {
   "cell_type": "code",
   "execution_count": 5,
   "metadata": {},
   "outputs": [],
   "source": [
    "url = 'https://raw.githubusercontent.com/COVID19Tracking/covid-tracking-data/master/data/states_daily_4pm_et.csv'"
   ]
  },
  {
   "cell_type": "code",
   "execution_count": 6,
   "metadata": {},
   "outputs": [
    {
     "data": {
      "text/plain": [
       "<module 'urllib.request' from '/Users/jwatt/conda/envs/tiny_python_38_b/lib/python3.8/urllib/request.py'>"
      ]
     },
     "execution_count": 6,
     "metadata": {},
     "output_type": "execute_result"
    }
   ],
   "source": [
    "req"
   ]
  },
  {
   "cell_type": "code",
   "execution_count": 7,
   "metadata": {},
   "outputs": [],
   "source": [
    "fn = req.urlopen(url)"
   ]
  },
  {
   "cell_type": "code",
   "execution_count": 8,
   "metadata": {},
   "outputs": [],
   "source": [
    "data = fn.read()"
   ]
  },
  {
   "cell_type": "code",
   "execution_count": 9,
   "metadata": {},
   "outputs": [
    {
     "data": {
      "text/plain": [
       "553770"
      ]
     },
     "execution_count": 9,
     "metadata": {},
     "output_type": "execute_result"
    }
   ],
   "source": [
    "len(data)"
   ]
  },
  {
   "cell_type": "code",
   "execution_count": 10,
   "metadata": {},
   "outputs": [
    {
     "data": {
      "text/plain": [
       "b'date,state,positive,negative,pending,hospitalizedCurrently,hospitalizedCumulative,inIcuCurrently,inI'"
      ]
     },
     "execution_count": 10,
     "metadata": {},
     "output_type": "execute_result"
    }
   ],
   "source": [
    "# byte string\n",
    "data[:100]  # slice"
   ]
  },
  {
   "cell_type": "markdown",
   "metadata": {},
   "source": [
    "* Write"
   ]
  },
  {
   "cell_type": "code",
   "execution_count": 11,
   "metadata": {},
   "outputs": [],
   "source": [
    "# important! \n",
    "# output to csv_file, input for read_csv function later\n",
    "\n",
    "fname = '../data/covid.csv'"
   ]
  },
  {
   "cell_type": "code",
   "execution_count": 12,
   "metadata": {},
   "outputs": [],
   "source": [
    "# 1\n",
    "\n",
    "fo = open(fname, mode='wb')"
   ]
  },
  {
   "cell_type": "code",
   "execution_count": 13,
   "metadata": {},
   "outputs": [
    {
     "data": {
      "text/plain": [
       "553770"
      ]
     },
     "execution_count": 13,
     "metadata": {},
     "output_type": "execute_result"
    }
   ],
   "source": [
    "fo.write(data)"
   ]
  },
  {
   "cell_type": "code",
   "execution_count": 14,
   "metadata": {},
   "outputs": [],
   "source": [
    "fo.close()"
   ]
  },
  {
   "cell_type": "markdown",
   "metadata": {},
   "source": [
    "* Context manager"
   ]
  },
  {
   "cell_type": "code",
   "execution_count": 15,
   "metadata": {},
   "outputs": [],
   "source": [
    "# 2\n",
    "\n",
    "with open(fname, mode='wb') as fo:\n",
    "    fo.write(data)\n",
    "# upon unindent file is closed"
   ]
  },
  {
   "cell_type": "code",
   "execution_count": 16,
   "metadata": {},
   "outputs": [],
   "source": [
    "def fetch_url(url, fname):\n",
    "    \"\"\"\n",
    "    Save a url to a local file.\n",
    "    \"\"\"\n",
    "    fn = req.urlopen(url)\n",
    "    data = fn.read()\n",
    "    with open(fname, mode='wb') as fo:\n",
    "        fo.write(data)"
   ]
  },
  {
   "cell_type": "code",
   "execution_count": 17,
   "metadata": {
    "scrolled": true
   },
   "outputs": [
    {
     "data": {
      "text/plain": [
       "['In',\n",
       " 'Out',\n",
       " '_',\n",
       " '_10',\n",
       " '_13',\n",
       " '_2',\n",
       " '_4',\n",
       " '_6',\n",
       " '_9',\n",
       " '__',\n",
       " '___',\n",
       " '__builtin__',\n",
       " '__builtins__',\n",
       " '__doc__',\n",
       " '__loader__',\n",
       " '__name__',\n",
       " '__package__',\n",
       " '__spec__',\n",
       " '_dh',\n",
       " '_exit_code',\n",
       " '_i',\n",
       " '_i1',\n",
       " '_i10',\n",
       " '_i11',\n",
       " '_i12',\n",
       " '_i13',\n",
       " '_i14',\n",
       " '_i15',\n",
       " '_i16',\n",
       " '_i17',\n",
       " '_i2',\n",
       " '_i3',\n",
       " '_i4',\n",
       " '_i5',\n",
       " '_i6',\n",
       " '_i7',\n",
       " '_i8',\n",
       " '_i9',\n",
       " '_ih',\n",
       " '_ii',\n",
       " '_iii',\n",
       " '_oh',\n",
       " 'csv',\n",
       " 'data',\n",
       " 'exit',\n",
       " 'fetch_url',\n",
       " 'fn',\n",
       " 'fname',\n",
       " 'fo',\n",
       " 'get_ipython',\n",
       " 'pd',\n",
       " 'plt',\n",
       " 'quit',\n",
       " 'req',\n",
       " 'sys',\n",
       " 'url']"
      ]
     },
     "execution_count": 17,
     "metadata": {},
     "output_type": "execute_result"
    }
   ],
   "source": [
    "dir()"
   ]
  },
  {
   "cell_type": "code",
   "execution_count": 18,
   "metadata": {},
   "outputs": [],
   "source": [
    "fetch_url(url, 'out/test.csv')"
   ]
  },
  {
   "cell_type": "markdown",
   "metadata": {},
   "source": [
    "* Playing with data"
   ]
  },
  {
   "cell_type": "code",
   "execution_count": 19,
   "metadata": {},
   "outputs": [],
   "source": [
    "fn2 = open(fname, encoding='utf8')"
   ]
  },
  {
   "cell_type": "code",
   "execution_count": 20,
   "metadata": {},
   "outputs": [],
   "source": [
    "lines = []  # empty list literal (special syntax)\n",
    "for line in fn2:\n",
    "    lines.append(line)"
   ]
  },
  {
   "cell_type": "code",
   "execution_count": 21,
   "metadata": {},
   "outputs": [
    {
     "data": {
      "text/plain": [
       "3658"
      ]
     },
     "execution_count": 21,
     "metadata": {},
     "output_type": "execute_result"
    }
   ],
   "source": [
    "len(lines)"
   ]
  },
  {
   "cell_type": "code",
   "execution_count": 22,
   "metadata": {},
   "outputs": [
    {
     "data": {
      "text/plain": [
       "'date,state,positive,negative,pending,hospitalizedCurrently,hospitalizedCumulative,inIcuCurrently,inIcuCumulative,onVentilatorCurrently,onVentilatorCumulative,recovered,dataQualityGrade,lastUpdateEt,hash,dateChecked,death,hospitalized,total,totalTestResults,posNeg,fips,deathIncrease,hospitalizedIncrease,negativeIncrease,positiveIncrease,totalTestResultsIncrease\\n'"
      ]
     },
     "execution_count": 22,
     "metadata": {},
     "output_type": "execute_result"
    }
   ],
   "source": [
    "lines[0]"
   ]
  },
  {
   "cell_type": "code",
   "execution_count": 23,
   "metadata": {},
   "outputs": [
    {
     "data": {
      "text/plain": [
       "'20200122,WA,1,,,,,,,,,,,,c6e052d394e31103a4c7fd6f1c408b9e0008a455,2020-01-22T21:00:00Z,,,1,1,1,53,,,,,'"
      ]
     },
     "execution_count": 23,
     "metadata": {},
     "output_type": "execute_result"
    }
   ],
   "source": [
    "lines[-1]"
   ]
  },
  {
   "cell_type": "code",
   "execution_count": 24,
   "metadata": {},
   "outputs": [
    {
     "data": {
      "text/plain": [
       "['date,state,positive,negative,pending,hospitalizedCurrently,hospitalizedCumulative,inIcuCurrently,inIcuCumulative,onVentilatorCurrently,onVentilatorCumulative,recovered,dataQualityGrade,lastUpdateEt,hash,dateChecked,death,hospitalized,total,totalTestResults,posNeg,fips,deathIncrease,hospitalizedIncrease,negativeIncrease,positiveIncrease,totalTestResultsIncrease\\n',\n",
       " '20200509,AK,378,26071,,8,,,,,,318,C,5/9/2020 00:00,81730ed56f3a546adb227bf046219933797f9cbb,2020-05-09T20:00:00Z,10,,26449,26449,26449,02,0,0,975,1,976\\n',\n",
       " '20200509,AL,9567,115927,,,1228,,459,,272,,B,5/9/2020 00:00,7c1a5067467c6ce495a787917ddccae550e81335,2020-05-09T20:00:00Z,388,1228,125494,125494,125494,01,13,21,5034,346,5380\\n']"
      ]
     },
     "execution_count": 24,
     "metadata": {},
     "output_type": "execute_result"
    }
   ],
   "source": [
    "lines[:3]"
   ]
  },
  {
   "cell_type": "code",
   "execution_count": 25,
   "metadata": {},
   "outputs": [
    {
     "data": {
      "text/plain": [
       "list"
      ]
     },
     "execution_count": 25,
     "metadata": {},
     "output_type": "execute_result"
    }
   ],
   "source": [
    "type(lines)"
   ]
  },
  {
   "cell_type": "code",
   "execution_count": 26,
   "metadata": {},
   "outputs": [
    {
     "data": {
      "text/plain": [
       "str"
      ]
     },
     "execution_count": 26,
     "metadata": {},
     "output_type": "execute_result"
    }
   ],
   "source": [
    "type(lines[0])"
   ]
  },
  {
   "cell_type": "code",
   "execution_count": 27,
   "metadata": {
    "scrolled": true
   },
   "outputs": [
    {
     "data": {
      "text/plain": [
       "['__add__',\n",
       " '__class__',\n",
       " '__contains__',\n",
       " '__delattr__',\n",
       " '__delitem__',\n",
       " '__dir__',\n",
       " '__doc__',\n",
       " '__eq__',\n",
       " '__format__',\n",
       " '__ge__',\n",
       " '__getattribute__',\n",
       " '__getitem__',\n",
       " '__gt__',\n",
       " '__hash__',\n",
       " '__iadd__',\n",
       " '__imul__',\n",
       " '__init__',\n",
       " '__init_subclass__',\n",
       " '__iter__',\n",
       " '__le__',\n",
       " '__len__',\n",
       " '__lt__',\n",
       " '__mul__',\n",
       " '__ne__',\n",
       " '__new__',\n",
       " '__reduce__',\n",
       " '__reduce_ex__',\n",
       " '__repr__',\n",
       " '__reversed__',\n",
       " '__rmul__',\n",
       " '__setattr__',\n",
       " '__setitem__',\n",
       " '__sizeof__',\n",
       " '__str__',\n",
       " '__subclasshook__',\n",
       " 'append',\n",
       " 'clear',\n",
       " 'copy',\n",
       " 'count',\n",
       " 'extend',\n",
       " 'index',\n",
       " 'insert',\n",
       " 'pop',\n",
       " 'remove',\n",
       " 'reverse',\n",
       " 'sort']"
      ]
     },
     "execution_count": 27,
     "metadata": {},
     "output_type": "execute_result"
    }
   ],
   "source": [
    "dir(lines)"
   ]
  },
  {
   "cell_type": "code",
   "execution_count": 28,
   "metadata": {},
   "outputs": [
    {
     "data": {
      "text/plain": [
       "True"
      ]
     },
     "execution_count": 28,
     "metadata": {},
     "output_type": "execute_result"
    }
   ],
   "source": [
    "'20200505,AL,8285,98481,,,1107,,428,,255,,B,5/5/2020 00:00,cdeeecd2210217b93fc3b08765445de51e2cebcc,2020-05-05T20:00:00Z,313,1107,106766,106766,106766,01,17,43,3389,260,3649\\n' in lines"
   ]
  },
  {
   "cell_type": "markdown",
   "metadata": {},
   "source": [
    "* Help"
   ]
  },
  {
   "cell_type": "code",
   "execution_count": 29,
   "metadata": {},
   "outputs": [
    {
     "name": "stdout",
     "output_type": "stream",
     "text": [
      "Help on built-in function append:\n",
      "\n",
      "append(object, /) method of builtins.list instance\n",
      "    Append object to the end of the list.\n",
      "\n"
     ]
    }
   ],
   "source": [
    "help(lines.append)"
   ]
  },
  {
   "cell_type": "raw",
   "metadata": {},
   "source": [
    "# in REPL\n",
    "\n",
    ">>> help()\n",
    "help> keywords\n",
    "help> for  # double click to expand\n",
    "help> topics\n",
    "help> LISTS\n",
    "\n",
    "# enter to exit help mode\n",
    "\n",
    "# refer to Reference"
   ]
  },
  {
   "cell_type": "markdown",
   "metadata": {},
   "source": [
    "* python buitin functions\n",
    "\n",
    "https://docs.python.org/3/library/functions.html"
   ]
  },
  {
   "cell_type": "markdown",
   "metadata": {},
   "source": [
    "* Continue playing with data"
   ]
  },
  {
   "cell_type": "code",
   "execution_count": 30,
   "metadata": {},
   "outputs": [
    {
     "data": {
      "text/plain": [
       "'20200509,AK,378,26071,,8,,,,,,318,C,5/9/2020 00:00,81730ed56f3a546adb227bf046219933797f9cbb,2020-05-09T20:00:00Z,10,,26449,26449,26449,02,0,0,975,1,976\\n'"
      ]
     },
     "execution_count": 30,
     "metadata": {},
     "output_type": "execute_result"
    }
   ],
   "source": [
    "lines[1]"
   ]
  },
  {
   "cell_type": "markdown",
   "metadata": {},
   "source": [
    "### Problem 1"
   ]
  },
  {
   "cell_type": "code",
   "execution_count": 31,
   "metadata": {
    "scrolled": true
   },
   "outputs": [
    {
     "data": {
      "text/plain": [
       "['__add__',\n",
       " '__class__',\n",
       " '__contains__',\n",
       " '__delattr__',\n",
       " '__dir__',\n",
       " '__doc__',\n",
       " '__eq__',\n",
       " '__format__',\n",
       " '__ge__',\n",
       " '__getattribute__',\n",
       " '__getitem__',\n",
       " '__getnewargs__',\n",
       " '__gt__',\n",
       " '__hash__',\n",
       " '__init__',\n",
       " '__init_subclass__',\n",
       " '__iter__',\n",
       " '__le__',\n",
       " '__len__',\n",
       " '__lt__',\n",
       " '__mod__',\n",
       " '__mul__',\n",
       " '__ne__',\n",
       " '__new__',\n",
       " '__reduce__',\n",
       " '__reduce_ex__',\n",
       " '__repr__',\n",
       " '__rmod__',\n",
       " '__rmul__',\n",
       " '__setattr__',\n",
       " '__sizeof__',\n",
       " '__str__',\n",
       " '__subclasshook__',\n",
       " 'capitalize',\n",
       " 'casefold',\n",
       " 'center',\n",
       " 'count',\n",
       " 'encode',\n",
       " 'endswith',\n",
       " 'expandtabs',\n",
       " 'find',\n",
       " 'format',\n",
       " 'format_map',\n",
       " 'index',\n",
       " 'isalnum',\n",
       " 'isalpha',\n",
       " 'isascii',\n",
       " 'isdecimal',\n",
       " 'isdigit',\n",
       " 'isidentifier',\n",
       " 'islower',\n",
       " 'isnumeric',\n",
       " 'isprintable',\n",
       " 'isspace',\n",
       " 'istitle',\n",
       " 'isupper',\n",
       " 'join',\n",
       " 'ljust',\n",
       " 'lower',\n",
       " 'lstrip',\n",
       " 'maketrans',\n",
       " 'partition',\n",
       " 'replace',\n",
       " 'rfind',\n",
       " 'rindex',\n",
       " 'rjust',\n",
       " 'rpartition',\n",
       " 'rsplit',\n",
       " 'rstrip',\n",
       " 'split',\n",
       " 'splitlines',\n",
       " 'startswith',\n",
       " 'strip',\n",
       " 'swapcase',\n",
       " 'title',\n",
       " 'translate',\n",
       " 'upper',\n",
       " 'zfill']"
      ]
     },
     "execution_count": 31,
     "metadata": {},
     "output_type": "execute_result"
    }
   ],
   "source": [
    "dir(lines[1])"
   ]
  },
  {
   "cell_type": "code",
   "execution_count": 32,
   "metadata": {
    "scrolled": true
   },
   "outputs": [
    {
     "data": {
      "text/plain": [
       "['20200509',\n",
       " 'AK',\n",
       " '378',\n",
       " '26071',\n",
       " '',\n",
       " '8',\n",
       " '',\n",
       " '',\n",
       " '',\n",
       " '',\n",
       " '',\n",
       " '318',\n",
       " 'C',\n",
       " '5/9/2020 00:00',\n",
       " '81730ed56f3a546adb227bf046219933797f9cbb',\n",
       " '2020-05-09T20:00:00Z',\n",
       " '10',\n",
       " '',\n",
       " '26449',\n",
       " '26449',\n",
       " '26449',\n",
       " '02',\n",
       " '0',\n",
       " '0',\n",
       " '975',\n",
       " '1',\n",
       " '976\\n']"
      ]
     },
     "execution_count": 32,
     "metadata": {},
     "output_type": "execute_result"
    }
   ],
   "source": [
    "lines[1].split(',')"
   ]
  },
  {
   "cell_type": "code",
   "execution_count": 33,
   "metadata": {
    "scrolled": true
   },
   "outputs": [
    {
     "data": {
      "text/plain": [
       "['20200509',\n",
       " 'AK',\n",
       " '378',\n",
       " '26071',\n",
       " '',\n",
       " '8',\n",
       " '',\n",
       " '',\n",
       " '',\n",
       " '',\n",
       " '',\n",
       " '318',\n",
       " 'C',\n",
       " '5/9/2020 00:00',\n",
       " '81730ed56f3a546adb227bf046219933797f9cbb',\n",
       " '2020-05-09T20:00:00Z',\n",
       " '10',\n",
       " '',\n",
       " '26449',\n",
       " '26449',\n",
       " '26449',\n",
       " '02',\n",
       " '0',\n",
       " '0',\n",
       " '975',\n",
       " '1',\n",
       " '976']"
      ]
     },
     "execution_count": 33,
     "metadata": {},
     "output_type": "execute_result"
    }
   ],
   "source": [
    "# remove new line\n",
    "lines[1].strip().split(',')"
   ]
  },
  {
   "cell_type": "markdown",
   "metadata": {},
   "source": [
    "* Dictionary\n",
    "\n",
    "https://docs.python.org/3/library/stdtypes.html#dict"
   ]
  },
  {
   "cell_type": "code",
   "execution_count": 34,
   "metadata": {},
   "outputs": [],
   "source": [
    "d = {}\n",
    "d['cat'] = \"furry feline\"\n",
    "d['dog'] = \"cozy canine\""
   ]
  },
  {
   "cell_type": "code",
   "execution_count": 35,
   "metadata": {},
   "outputs": [
    {
     "data": {
      "text/plain": [
       "{'cat': 'furry feline', 'dog': 'cozy canine'}"
      ]
     },
     "execution_count": 35,
     "metadata": {},
     "output_type": "execute_result"
    }
   ],
   "source": [
    "d"
   ]
  },
  {
   "cell_type": "code",
   "execution_count": 36,
   "metadata": {
    "scrolled": true
   },
   "outputs": [
    {
     "data": {
      "text/plain": [
       "['__class__',\n",
       " '__contains__',\n",
       " '__delattr__',\n",
       " '__delitem__',\n",
       " '__dir__',\n",
       " '__doc__',\n",
       " '__eq__',\n",
       " '__format__',\n",
       " '__ge__',\n",
       " '__getattribute__',\n",
       " '__getitem__',\n",
       " '__gt__',\n",
       " '__hash__',\n",
       " '__init__',\n",
       " '__init_subclass__',\n",
       " '__iter__',\n",
       " '__le__',\n",
       " '__len__',\n",
       " '__lt__',\n",
       " '__ne__',\n",
       " '__new__',\n",
       " '__reduce__',\n",
       " '__reduce_ex__',\n",
       " '__repr__',\n",
       " '__reversed__',\n",
       " '__setattr__',\n",
       " '__setitem__',\n",
       " '__sizeof__',\n",
       " '__str__',\n",
       " '__subclasshook__',\n",
       " 'clear',\n",
       " 'copy',\n",
       " 'fromkeys',\n",
       " 'get',\n",
       " 'items',\n",
       " 'keys',\n",
       " 'pop',\n",
       " 'popitem',\n",
       " 'setdefault',\n",
       " 'update',\n",
       " 'values']"
      ]
     },
     "execution_count": 36,
     "metadata": {},
     "output_type": "execute_result"
    }
   ],
   "source": [
    "dir(d)"
   ]
  },
  {
   "cell_type": "code",
   "execution_count": 37,
   "metadata": {},
   "outputs": [
    {
     "data": {
      "text/plain": [
       "dict_keys(['cat', 'dog'])"
      ]
     },
     "execution_count": 37,
     "metadata": {},
     "output_type": "execute_result"
    }
   ],
   "source": [
    "d.keys()"
   ]
  },
  {
   "cell_type": "code",
   "execution_count": 38,
   "metadata": {},
   "outputs": [
    {
     "data": {
      "text/plain": [
       "dict_values(['furry feline', 'cozy canine'])"
      ]
     },
     "execution_count": 38,
     "metadata": {},
     "output_type": "execute_result"
    }
   ],
   "source": [
    "d.values()"
   ]
  },
  {
   "cell_type": "code",
   "execution_count": 39,
   "metadata": {},
   "outputs": [
    {
     "data": {
      "text/plain": [
       "dict_items([('cat', 'furry feline'), ('dog', 'cozy canine')])"
      ]
     },
     "execution_count": 39,
     "metadata": {},
     "output_type": "execute_result"
    }
   ],
   "source": [
    "d.items()"
   ]
  },
  {
   "cell_type": "markdown",
   "metadata": {},
   "source": [
    "* Store data into a dictioary"
   ]
  },
  {
   "cell_type": "code",
   "execution_count": 40,
   "metadata": {},
   "outputs": [],
   "source": [
    "header = lines[0].strip().split(',')\n",
    "line1 = lines[1].strip().split(',')"
   ]
  },
  {
   "cell_type": "code",
   "execution_count": 41,
   "metadata": {},
   "outputs": [
    {
     "data": {
      "text/plain": [
       "['date',\n",
       " 'state',\n",
       " 'positive',\n",
       " 'negative',\n",
       " 'pending',\n",
       " 'hospitalizedCurrently',\n",
       " 'hospitalizedCumulative',\n",
       " 'inIcuCurrently',\n",
       " 'inIcuCumulative',\n",
       " 'onVentilatorCurrently',\n",
       " 'onVentilatorCumulative',\n",
       " 'recovered',\n",
       " 'dataQualityGrade',\n",
       " 'lastUpdateEt',\n",
       " 'hash',\n",
       " 'dateChecked',\n",
       " 'death',\n",
       " 'hospitalized',\n",
       " 'total',\n",
       " 'totalTestResults',\n",
       " 'posNeg',\n",
       " 'fips',\n",
       " 'deathIncrease',\n",
       " 'hospitalizedIncrease',\n",
       " 'negativeIncrease',\n",
       " 'positiveIncrease',\n",
       " 'totalTestResultsIncrease']"
      ]
     },
     "execution_count": 41,
     "metadata": {},
     "output_type": "execute_result"
    }
   ],
   "source": [
    "header"
   ]
  },
  {
   "cell_type": "code",
   "execution_count": 42,
   "metadata": {},
   "outputs": [
    {
     "data": {
      "text/plain": [
       "['20200509',\n",
       " 'AK',\n",
       " '378',\n",
       " '26071',\n",
       " '',\n",
       " '8',\n",
       " '',\n",
       " '',\n",
       " '',\n",
       " '',\n",
       " '',\n",
       " '318',\n",
       " 'C',\n",
       " '5/9/2020 00:00',\n",
       " '81730ed56f3a546adb227bf046219933797f9cbb',\n",
       " '2020-05-09T20:00:00Z',\n",
       " '10',\n",
       " '',\n",
       " '26449',\n",
       " '26449',\n",
       " '26449',\n",
       " '02',\n",
       " '0',\n",
       " '0',\n",
       " '975',\n",
       " '1',\n",
       " '976']"
      ]
     },
     "execution_count": 42,
     "metadata": {},
     "output_type": "execute_result"
    }
   ],
   "source": [
    "line1"
   ]
  },
  {
   "cell_type": "markdown",
   "metadata": {},
   "source": [
    "* zip\n",
    "\n",
    "https://docs.python.org/3/library/functions.html#zip"
   ]
  },
  {
   "cell_type": "code",
   "execution_count": 43,
   "metadata": {},
   "outputs": [
    {
     "data": {
      "text/plain": [
       "<zip at 0x11929a540>"
      ]
     },
     "execution_count": 43,
     "metadata": {},
     "output_type": "execute_result"
    }
   ],
   "source": [
    "zip(header, line1)"
   ]
  },
  {
   "cell_type": "code",
   "execution_count": 44,
   "metadata": {},
   "outputs": [
    {
     "data": {
      "text/plain": [
       "[('date', '20200509'),\n",
       " ('state', 'AK'),\n",
       " ('positive', '378'),\n",
       " ('negative', '26071'),\n",
       " ('pending', ''),\n",
       " ('hospitalizedCurrently', '8'),\n",
       " ('hospitalizedCumulative', ''),\n",
       " ('inIcuCurrently', ''),\n",
       " ('inIcuCumulative', ''),\n",
       " ('onVentilatorCurrently', ''),\n",
       " ('onVentilatorCumulative', ''),\n",
       " ('recovered', '318'),\n",
       " ('dataQualityGrade', 'C'),\n",
       " ('lastUpdateEt', '5/9/2020 00:00'),\n",
       " ('hash', '81730ed56f3a546adb227bf046219933797f9cbb'),\n",
       " ('dateChecked', '2020-05-09T20:00:00Z'),\n",
       " ('death', '10'),\n",
       " ('hospitalized', ''),\n",
       " ('total', '26449'),\n",
       " ('totalTestResults', '26449'),\n",
       " ('posNeg', '26449'),\n",
       " ('fips', '02'),\n",
       " ('deathIncrease', '0'),\n",
       " ('hospitalizedIncrease', '0'),\n",
       " ('negativeIncrease', '975'),\n",
       " ('positiveIncrease', '1'),\n",
       " ('totalTestResultsIncrease', '976')]"
      ]
     },
     "execution_count": 44,
     "metadata": {},
     "output_type": "execute_result"
    }
   ],
   "source": [
    "list(zip(header, line1))"
   ]
  },
  {
   "cell_type": "code",
   "execution_count": 45,
   "metadata": {},
   "outputs": [
    {
     "data": {
      "text/plain": [
       "{'date': '20200509',\n",
       " 'state': 'AK',\n",
       " 'positive': '378',\n",
       " 'negative': '26071',\n",
       " 'pending': '',\n",
       " 'hospitalizedCurrently': '8',\n",
       " 'hospitalizedCumulative': '',\n",
       " 'inIcuCurrently': '',\n",
       " 'inIcuCumulative': '',\n",
       " 'onVentilatorCurrently': '',\n",
       " 'onVentilatorCumulative': '',\n",
       " 'recovered': '318',\n",
       " 'dataQualityGrade': 'C',\n",
       " 'lastUpdateEt': '5/9/2020 00:00',\n",
       " 'hash': '81730ed56f3a546adb227bf046219933797f9cbb',\n",
       " 'dateChecked': '2020-05-09T20:00:00Z',\n",
       " 'death': '10',\n",
       " 'hospitalized': '',\n",
       " 'total': '26449',\n",
       " 'totalTestResults': '26449',\n",
       " 'posNeg': '26449',\n",
       " 'fips': '02',\n",
       " 'deathIncrease': '0',\n",
       " 'hospitalizedIncrease': '0',\n",
       " 'negativeIncrease': '975',\n",
       " 'positiveIncrease': '1',\n",
       " 'totalTestResultsIncrease': '976'}"
      ]
     },
     "execution_count": 45,
     "metadata": {},
     "output_type": "execute_result"
    }
   ],
   "source": [
    "dict(zip(header, line1))"
   ]
  },
  {
   "cell_type": "markdown",
   "metadata": {},
   "source": [
    "* enumerate\n",
    "\n",
    "https://docs.python.org/3/library/functions.html#enumerate"
   ]
  },
  {
   "cell_type": "code",
   "execution_count": 46,
   "metadata": {},
   "outputs": [
    {
     "data": {
      "text/plain": [
       "['cat', 'dog']"
      ]
     },
     "execution_count": 46,
     "metadata": {},
     "output_type": "execute_result"
    }
   ],
   "source": [
    "lst = list(d)\n",
    "lst"
   ]
  },
  {
   "cell_type": "code",
   "execution_count": 47,
   "metadata": {},
   "outputs": [
    {
     "name": "stdout",
     "output_type": "stream",
     "text": [
      "0 cat\n",
      "1 dog\n"
     ]
    }
   ],
   "source": [
    "for i, item in enumerate(lst, 0):\n",
    "    print(i, item)"
   ]
  },
  {
   "cell_type": "markdown",
   "metadata": {},
   "source": [
    "* Read CSV\n",
    "\n",
    "https://docs.python.org/3/library/csv.html?highlight=csv"
   ]
  },
  {
   "cell_type": "code",
   "execution_count": 48,
   "metadata": {},
   "outputs": [],
   "source": [
    "# 1\n",
    "\n",
    "def read_csv(fname):\n",
    "    with open(fname, encoding='utf8') as csvfile:\n",
    "        rows = []\n",
    "        for line in csvfile:\n",
    "            values = line.strip().split(',')\n",
    "            if len(rows) == 0:  # if not rows\n",
    "                headers = values\n",
    "            else:\n",
    "                rows.append(dict(zip(headers, values)))  # buggy\n",
    "        return rows"
   ]
  },
  {
   "cell_type": "code",
   "execution_count": 49,
   "metadata": {},
   "outputs": [
    {
     "data": {
      "text/plain": [
       "[]"
      ]
     },
     "execution_count": 49,
     "metadata": {},
     "output_type": "execute_result"
    }
   ],
   "source": [
    "read_csv(fname)[:2]"
   ]
  },
  {
   "cell_type": "markdown",
   "metadata": {},
   "source": [
    "### Problem 2\n",
    "\n",
    "* rubber duck debugging..."
   ]
  },
  {
   "cell_type": "code",
   "execution_count": 50,
   "metadata": {},
   "outputs": [],
   "source": [
    "# 2\n",
    "\n",
    "def read_csv(fname):\n",
    "    # import pdb; pdb.set_trace()\n",
    "    with open(fname, encoding='utf8') as csvfile:\n",
    "        rows = []\n",
    "        for i, line in enumerate(csvfile):\n",
    "            values = line.strip().split(',')\n",
    "            if i == 0:\n",
    "                headers = values\n",
    "            else:\n",
    "                rows.append(dict(zip(headers, values)))\n",
    "        return rows"
   ]
  },
  {
   "cell_type": "code",
   "execution_count": 51,
   "metadata": {},
   "outputs": [
    {
     "data": {
      "text/plain": [
       "[{'date': '20200509',\n",
       "  'state': 'AK',\n",
       "  'positive': '378',\n",
       "  'negative': '26071',\n",
       "  'pending': '',\n",
       "  'hospitalizedCurrently': '8',\n",
       "  'hospitalizedCumulative': '',\n",
       "  'inIcuCurrently': '',\n",
       "  'inIcuCumulative': '',\n",
       "  'onVentilatorCurrently': '',\n",
       "  'onVentilatorCumulative': '',\n",
       "  'recovered': '318',\n",
       "  'dataQualityGrade': 'C',\n",
       "  'lastUpdateEt': '5/9/2020 00:00',\n",
       "  'hash': '81730ed56f3a546adb227bf046219933797f9cbb',\n",
       "  'dateChecked': '2020-05-09T20:00:00Z',\n",
       "  'death': '10',\n",
       "  'hospitalized': '',\n",
       "  'total': '26449',\n",
       "  'totalTestResults': '26449',\n",
       "  'posNeg': '26449',\n",
       "  'fips': '02',\n",
       "  'deathIncrease': '0',\n",
       "  'hospitalizedIncrease': '0',\n",
       "  'negativeIncrease': '975',\n",
       "  'positiveIncrease': '1',\n",
       "  'totalTestResultsIncrease': '976'},\n",
       " {'date': '20200509',\n",
       "  'state': 'AL',\n",
       "  'positive': '9567',\n",
       "  'negative': '115927',\n",
       "  'pending': '',\n",
       "  'hospitalizedCurrently': '',\n",
       "  'hospitalizedCumulative': '1228',\n",
       "  'inIcuCurrently': '',\n",
       "  'inIcuCumulative': '459',\n",
       "  'onVentilatorCurrently': '',\n",
       "  'onVentilatorCumulative': '272',\n",
       "  'recovered': '',\n",
       "  'dataQualityGrade': 'B',\n",
       "  'lastUpdateEt': '5/9/2020 00:00',\n",
       "  'hash': '7c1a5067467c6ce495a787917ddccae550e81335',\n",
       "  'dateChecked': '2020-05-09T20:00:00Z',\n",
       "  'death': '388',\n",
       "  'hospitalized': '1228',\n",
       "  'total': '125494',\n",
       "  'totalTestResults': '125494',\n",
       "  'posNeg': '125494',\n",
       "  'fips': '01',\n",
       "  'deathIncrease': '13',\n",
       "  'hospitalizedIncrease': '21',\n",
       "  'negativeIncrease': '5034',\n",
       "  'positiveIncrease': '346',\n",
       "  'totalTestResultsIncrease': '5380'}]"
      ]
     },
     "execution_count": 51,
     "metadata": {},
     "output_type": "execute_result"
    }
   ],
   "source": [
    "read_csv(fname)[:2]"
   ]
  },
  {
   "cell_type": "markdown",
   "metadata": {},
   "source": [
    "* pdb/ breakpoint\n",
    "\n",
    "https://docs.python.org/3/library/pdb.html?highlight=pdb#module-pdb"
   ]
  },
  {
   "cell_type": "raw",
   "metadata": {},
   "source": [
    "(pdb)\n",
    "h\n",
    "l\n",
    "fname\n",
    "n\n",
    "h n\n",
    "l\n",
    "n\n",
    "rows\n",
    "line\n",
    "n\n",
    "values\n",
    "u(p)\n",
    "d(own)\n",
    "c(ontinue)\n",
    "q(uit)"
   ]
  },
  {
   "cell_type": "markdown",
   "metadata": {},
   "source": [
    "* Filter"
   ]
  },
  {
   "cell_type": "code",
   "execution_count": 52,
   "metadata": {},
   "outputs": [
    {
     "data": {
      "text/plain": [
       "3657"
      ]
     },
     "execution_count": 52,
     "metadata": {},
     "output_type": "execute_result"
    }
   ],
   "source": [
    "res = read_csv(fname)\n",
    "len(res)"
   ]
  },
  {
   "cell_type": "code",
   "execution_count": 53,
   "metadata": {},
   "outputs": [],
   "source": [
    "tx_res = []\n",
    "for row in res:\n",
    "    if row['state'] == 'TX':\n",
    "        tx_res.append(row)"
   ]
  },
  {
   "cell_type": "code",
   "execution_count": 54,
   "metadata": {},
   "outputs": [
    {
     "data": {
      "text/plain": [
       "67"
      ]
     },
     "execution_count": 54,
     "metadata": {},
     "output_type": "execute_result"
    }
   ],
   "source": [
    "len(tx_res)"
   ]
  },
  {
   "cell_type": "code",
   "execution_count": 55,
   "metadata": {},
   "outputs": [
    {
     "data": {
      "text/plain": [
       "{'date': '20200509',\n",
       " 'state': 'TX',\n",
       " 'positive': '37860',\n",
       " 'negative': '451434',\n",
       " 'pending': '',\n",
       " 'hospitalizedCurrently': '1735',\n",
       " 'hospitalizedCumulative': '',\n",
       " 'inIcuCurrently': '',\n",
       " 'inIcuCumulative': '',\n",
       " 'onVentilatorCurrently': '',\n",
       " 'onVentilatorCumulative': '',\n",
       " 'recovered': '20141',\n",
       " 'dataQualityGrade': 'B',\n",
       " 'lastUpdateEt': '5/9/2020 13:15',\n",
       " 'hash': 'deeecea989a19b1e2c2f50a4fa57cec56a0ec1c2',\n",
       " 'dateChecked': '2020-05-09T20:00:00Z',\n",
       " 'death': '1049',\n",
       " 'hospitalized': '',\n",
       " 'total': '489294',\n",
       " 'totalTestResults': '489294',\n",
       " 'posNeg': '489294',\n",
       " 'fips': '48',\n",
       " 'deathIncrease': '45',\n",
       " 'hospitalizedIncrease': '0',\n",
       " 'negativeIncrease': '10925',\n",
       " 'positiveIncrease': '1251',\n",
       " 'totalTestResultsIncrease': '12176'}"
      ]
     },
     "execution_count": 55,
     "metadata": {},
     "output_type": "execute_result"
    }
   ],
   "source": [
    "tx_res[0]"
   ]
  },
  {
   "cell_type": "code",
   "execution_count": 56,
   "metadata": {},
   "outputs": [
    {
     "data": {
      "text/plain": [
       "'37860'"
      ]
     },
     "execution_count": 56,
     "metadata": {},
     "output_type": "execute_result"
    }
   ],
   "source": [
    "tx_res[0]['positive']"
   ]
  },
  {
   "cell_type": "code",
   "execution_count": 57,
   "metadata": {},
   "outputs": [
    {
     "data": {
      "text/plain": [
       "str"
      ]
     },
     "execution_count": 57,
     "metadata": {},
     "output_type": "execute_result"
    }
   ],
   "source": [
    "type(tx_res[0]['positive'])"
   ]
  },
  {
   "cell_type": "code",
   "execution_count": 58,
   "metadata": {},
   "outputs": [],
   "source": [
    "# 3\n",
    "\n",
    "def read_csv(fname):\n",
    "    #import pdb; pdb.set_trace()\n",
    "    with open(fname, encoding='utf8') as csvfile:\n",
    "        rows = []\n",
    "        for i, line in enumerate(csvfile):\n",
    "            values = line.strip().split(',')\n",
    "            if i == 0:\n",
    "                headers = values\n",
    "            else:\n",
    "                for j, val in enumerate(values):\n",
    "                    val = int(val)\n",
    "                    values[j] = val\n",
    "                rows.append(dict(zip(headers, values)))\n",
    "    return rows"
   ]
  },
  {
   "cell_type": "markdown",
   "metadata": {},
   "source": [
    "### Problem 3"
   ]
  },
  {
   "cell_type": "code",
   "execution_count": 59,
   "metadata": {},
   "outputs": [
    {
     "ename": "ValueError",
     "evalue": "invalid literal for int() with base 10: 'AK'",
     "output_type": "error",
     "traceback": [
      "\u001b[0;31m---------------------------------------------------------------------------\u001b[0m",
      "\u001b[0;31mValueError\u001b[0m                                Traceback (most recent call last)",
      "\u001b[0;32m<ipython-input-59-746f63c067a1>\u001b[0m in \u001b[0;36m<module>\u001b[0;34m\u001b[0m\n\u001b[0;32m----> 1\u001b[0;31m \u001b[0mread_csv\u001b[0m\u001b[0;34m(\u001b[0m\u001b[0mfname\u001b[0m\u001b[0;34m)\u001b[0m\u001b[0;34m[\u001b[0m\u001b[0;34m:\u001b[0m\u001b[0;36m2\u001b[0m\u001b[0;34m]\u001b[0m\u001b[0;34m\u001b[0m\u001b[0;34m\u001b[0m\u001b[0m\n\u001b[0m",
      "\u001b[0;32m<ipython-input-58-d4a1dcea0d35>\u001b[0m in \u001b[0;36mread_csv\u001b[0;34m(fname)\u001b[0m\n\u001b[1;32m     11\u001b[0m             \u001b[0;32melse\u001b[0m\u001b[0;34m:\u001b[0m\u001b[0;34m\u001b[0m\u001b[0;34m\u001b[0m\u001b[0m\n\u001b[1;32m     12\u001b[0m                 \u001b[0;32mfor\u001b[0m \u001b[0mj\u001b[0m\u001b[0;34m,\u001b[0m \u001b[0mval\u001b[0m \u001b[0;32min\u001b[0m \u001b[0menumerate\u001b[0m\u001b[0;34m(\u001b[0m\u001b[0mvalues\u001b[0m\u001b[0;34m)\u001b[0m\u001b[0;34m:\u001b[0m\u001b[0;34m\u001b[0m\u001b[0;34m\u001b[0m\u001b[0m\n\u001b[0;32m---> 13\u001b[0;31m                     \u001b[0mval\u001b[0m \u001b[0;34m=\u001b[0m \u001b[0mint\u001b[0m\u001b[0;34m(\u001b[0m\u001b[0mval\u001b[0m\u001b[0;34m)\u001b[0m\u001b[0;34m\u001b[0m\u001b[0;34m\u001b[0m\u001b[0m\n\u001b[0m\u001b[1;32m     14\u001b[0m                     \u001b[0mvalues\u001b[0m\u001b[0;34m[\u001b[0m\u001b[0mj\u001b[0m\u001b[0;34m]\u001b[0m \u001b[0;34m=\u001b[0m \u001b[0mval\u001b[0m\u001b[0;34m\u001b[0m\u001b[0;34m\u001b[0m\u001b[0m\n\u001b[1;32m     15\u001b[0m                 \u001b[0mrows\u001b[0m\u001b[0;34m.\u001b[0m\u001b[0mappend\u001b[0m\u001b[0;34m(\u001b[0m\u001b[0mdict\u001b[0m\u001b[0;34m(\u001b[0m\u001b[0mzip\u001b[0m\u001b[0;34m(\u001b[0m\u001b[0mheaders\u001b[0m\u001b[0;34m,\u001b[0m \u001b[0mvalues\u001b[0m\u001b[0;34m)\u001b[0m\u001b[0;34m)\u001b[0m\u001b[0;34m)\u001b[0m\u001b[0;34m\u001b[0m\u001b[0;34m\u001b[0m\u001b[0m\n",
      "\u001b[0;31mValueError\u001b[0m: invalid literal for int() with base 10: 'AK'"
     ]
    }
   ],
   "source": [
    "read_csv(fname)[:2]"
   ]
  },
  {
   "cell_type": "code",
   "execution_count": null,
   "metadata": {},
   "outputs": [],
   "source": [
    "# 4 --> working!\n",
    "\n",
    "def read_csv(fname):\n",
    "    #import pdb; pdb.set_trace()\n",
    "    with open(fname, encoding='utf8') as csvfile:\n",
    "        rows = []\n",
    "        for i, line in enumerate(csvfile):\n",
    "            values = line.strip().split(',')\n",
    "            if i == 0:\n",
    "                headers = values\n",
    "            else:\n",
    "                for j, val in enumerate(values):\n",
    "                    try:\n",
    "                        val = int(val)\n",
    "                    except ValueError:\n",
    "                        pass\n",
    "                    else:\n",
    "                        values[j] = val\n",
    "                rows.append(dict(zip(headers, values)))\n",
    "    return rows"
   ]
  },
  {
   "cell_type": "code",
   "execution_count": null,
   "metadata": {},
   "outputs": [],
   "source": [
    "read_csv(fname)[:2]"
   ]
  },
  {
   "cell_type": "code",
   "execution_count": null,
   "metadata": {},
   "outputs": [],
   "source": [
    "# Pause and make sure this function is working..."
   ]
  },
  {
   "cell_type": "code",
   "execution_count": null,
   "metadata": {},
   "outputs": [],
   "source": [
    "res = read_csv(fname)\n",
    "len(res)"
   ]
  },
  {
   "cell_type": "markdown",
   "metadata": {},
   "source": [
    "* Filter"
   ]
  },
  {
   "cell_type": "code",
   "execution_count": null,
   "metadata": {},
   "outputs": [],
   "source": [
    "# 1\n",
    "\n",
    "def filter(rows, state):\n",
    "    res = []\n",
    "    for row in res:\n",
    "        if row['state'] == state:\n",
    "            res.append(row)\n",
    "    return res"
   ]
  },
  {
   "cell_type": "code",
   "execution_count": null,
   "metadata": {},
   "outputs": [],
   "source": [
    "res_tx = filter(res, 'TX')\n",
    "len(res_tx)"
   ]
  },
  {
   "cell_type": "markdown",
   "metadata": {},
   "source": [
    "### Problem 4\n",
    "\n",
    "More problems... get used to Errors..."
   ]
  },
  {
   "cell_type": "code",
   "execution_count": null,
   "metadata": {},
   "outputs": [],
   "source": [
    "# 2\n",
    "\n",
    "def filter(rows, state):\n",
    "    res = []\n",
    "    for row in rows:\n",
    "        if row['state'] == state:\n",
    "            res.append(row)\n",
    "    return res"
   ]
  },
  {
   "cell_type": "code",
   "execution_count": null,
   "metadata": {},
   "outputs": [],
   "source": [
    "res_tx = filter(res, 'TX')\n",
    "len(res_tx)"
   ]
  },
  {
   "cell_type": "code",
   "execution_count": null,
   "metadata": {},
   "outputs": [],
   "source": [
    "res_tx[0]"
   ]
  },
  {
   "cell_type": "code",
   "execution_count": null,
   "metadata": {},
   "outputs": [],
   "source": [
    "# 3\n",
    "\n",
    "def filter(rows, state):\n",
    "    res = [row for row in rows if row['state'] == state]\n",
    "    return res"
   ]
  },
  {
   "cell_type": "code",
   "execution_count": null,
   "metadata": {},
   "outputs": [],
   "source": [
    "res_tx = filter(res, 'TX')\n",
    "len(res_tx)"
   ]
  },
  {
   "cell_type": "code",
   "execution_count": null,
   "metadata": {},
   "outputs": [],
   "source": [
    "pos = [row['positive'] for row in res_tx]\n",
    "len(pos)"
   ]
  },
  {
   "cell_type": "code",
   "execution_count": null,
   "metadata": {},
   "outputs": [],
   "source": [
    "dir(pos)"
   ]
  },
  {
   "cell_type": "code",
   "execution_count": null,
   "metadata": {},
   "outputs": [],
   "source": [
    "pos.reverse()\n",
    "pos"
   ]
  },
  {
   "cell_type": "code",
   "execution_count": null,
   "metadata": {},
   "outputs": [],
   "source": [
    "def get_date(row):\n",
    "    return row['date']"
   ]
  },
  {
   "cell_type": "markdown",
   "metadata": {},
   "source": [
    "* Sort"
   ]
  },
  {
   "cell_type": "code",
   "execution_count": null,
   "metadata": {},
   "outputs": [],
   "source": [
    "tx_sorted = sorted(res_tx, key=get_date)"
   ]
  },
  {
   "cell_type": "code",
   "execution_count": null,
   "metadata": {},
   "outputs": [],
   "source": [
    "len(tx_sorted)"
   ]
  },
  {
   "cell_type": "code",
   "execution_count": null,
   "metadata": {},
   "outputs": [],
   "source": [
    "tx_sorted[0]"
   ]
  },
  {
   "cell_type": "code",
   "execution_count": null,
   "metadata": {},
   "outputs": [],
   "source": [
    "tx_sorted[-1]"
   ]
  },
  {
   "cell_type": "code",
   "execution_count": null,
   "metadata": {},
   "outputs": [],
   "source": [
    "# 1\n",
    "\n",
    "def sortby(rows, col_name):\n",
    "    def get_col_name(row):\n",
    "        return row[col_name]\n",
    "    return sorted(rows, key=col_name)"
   ]
  },
  {
   "cell_type": "code",
   "execution_count": null,
   "metadata": {},
   "outputs": [],
   "source": [
    "res = read_csv(fname)\n",
    "tx_res = filter(res, 'TX')\n",
    "tx_res = sortby(tx_res, 'date')"
   ]
  },
  {
   "cell_type": "markdown",
   "metadata": {},
   "source": [
    "### Problem 5"
   ]
  },
  {
   "cell_type": "code",
   "execution_count": null,
   "metadata": {},
   "outputs": [],
   "source": [
    "# 2\n",
    "\n",
    "def sortby(rows, col_name):\n",
    "    def get_col_name(row):\n",
    "        return row[col_name]\n",
    "    return sorted(rows, key=get_col_name)"
   ]
  },
  {
   "cell_type": "code",
   "execution_count": null,
   "metadata": {},
   "outputs": [],
   "source": [
    "res = read_csv(fname)\n",
    "tx_res = filter(res, 'TX')\n",
    "tx_res = sortby(tx_res, 'date')"
   ]
  },
  {
   "cell_type": "code",
   "execution_count": null,
   "metadata": {},
   "outputs": [],
   "source": [
    "len(tx_res)"
   ]
  },
  {
   "cell_type": "code",
   "execution_count": null,
   "metadata": {},
   "outputs": [],
   "source": [
    "tx_res[0]"
   ]
  },
  {
   "cell_type": "code",
   "execution_count": null,
   "metadata": {},
   "outputs": [],
   "source": [
    "# Make sure all are working..."
   ]
  },
  {
   "cell_type": "markdown",
   "metadata": {},
   "source": [
    "### Exercise: \n",
    "\n",
    "Use Python csv module\n",
    "\n",
    "https://docs.python.org/3/library/csv.html?highlight=csv"
   ]
  },
  {
   "cell_type": "code",
   "execution_count": null,
   "metadata": {},
   "outputs": [],
   "source": [
    "# csv.reader\n",
    "\n",
    "def csv_reader(fname):\n",
    "    pass"
   ]
  },
  {
   "cell_type": "code",
   "execution_count": null,
   "metadata": {
    "scrolled": true
   },
   "outputs": [],
   "source": [
    "# csv_reader(fname)[:2]"
   ]
  },
  {
   "cell_type": "markdown",
   "metadata": {},
   "source": [
    "* Pandas\n",
    "\n",
    "https://pandas.pydata.org/"
   ]
  },
  {
   "cell_type": "code",
   "execution_count": null,
   "metadata": {},
   "outputs": [],
   "source": [
    "df = pd.read_csv(fname, sep=',')"
   ]
  },
  {
   "cell_type": "code",
   "execution_count": null,
   "metadata": {},
   "outputs": [],
   "source": [
    "type(df)"
   ]
  },
  {
   "cell_type": "code",
   "execution_count": null,
   "metadata": {},
   "outputs": [],
   "source": [
    "len(df)"
   ]
  },
  {
   "cell_type": "code",
   "execution_count": null,
   "metadata": {},
   "outputs": [],
   "source": [
    "df.head(3)"
   ]
  },
  {
   "cell_type": "code",
   "execution_count": null,
   "metadata": {},
   "outputs": [],
   "source": [
    "# https://pandas.pydata.org/pandas-docs/stable/reference/api/pandas.DataFrame.to_dict.html\n",
    "\n",
    "df.to_dict('records')[:2]"
   ]
  },
  {
   "cell_type": "code",
   "execution_count": null,
   "metadata": {},
   "outputs": [],
   "source": [
    "# Make sure save the REPL..."
   ]
  },
  {
   "cell_type": "markdown",
   "metadata": {},
   "source": [
    "* Plotting\n",
    "\n",
    "https://matplotlib.org/index.html\n",
    "\n",
    "https://matplotlib.org/gallery/lines_bars_and_markers/simple_plot.html#sphx-glr-gallery-lines-bars-and-markers-simple-plot-py"
   ]
  },
  {
   "cell_type": "markdown",
   "metadata": {},
   "source": [
    "* Install matplotlib\n",
    "\n",
    "https://pypi.org/project/matplotlib/"
   ]
  },
  {
   "cell_type": "code",
   "execution_count": null,
   "metadata": {
    "scrolled": true
   },
   "outputs": [],
   "source": [
    "dir()"
   ]
  },
  {
   "cell_type": "code",
   "execution_count": null,
   "metadata": {},
   "outputs": [],
   "source": [
    "# dir(plt)"
   ]
  },
  {
   "cell_type": "code",
   "execution_count": null,
   "metadata": {},
   "outputs": [],
   "source": [
    "# 1\n",
    "\n",
    "def get_value(rows, col_name):\n",
    "    res = []\n",
    "    for row in rows:\n",
    "        res.append(row[col_name])\n",
    "    return res"
   ]
  },
  {
   "cell_type": "code",
   "execution_count": null,
   "metadata": {},
   "outputs": [],
   "source": [
    "pos = get_value(res, 'positive')\n",
    "len(pos)"
   ]
  },
  {
   "cell_type": "code",
   "execution_count": null,
   "metadata": {},
   "outputs": [],
   "source": [
    "# 2\n",
    "\n",
    "def get_value(rows, col_name):\n",
    "    res = [row[col_name] for row in rows]\n",
    "    return res"
   ]
  },
  {
   "cell_type": "code",
   "execution_count": null,
   "metadata": {},
   "outputs": [],
   "source": [
    "tx_res[0].keys()"
   ]
  },
  {
   "cell_type": "code",
   "execution_count": null,
   "metadata": {},
   "outputs": [],
   "source": [
    "pos = get_value(res, 'positive')\n",
    "len(pos)"
   ]
  },
  {
   "cell_type": "code",
   "execution_count": null,
   "metadata": {},
   "outputs": [],
   "source": [
    "# data for plotting\n",
    "# x_axis = tx_res\n",
    "# y_axix = col 'pisitive'\n",
    "\n",
    "fig, ax = plt.subplots()\n",
    "ax.plot(get_value(tx_res, 'positive'))\n",
    "# plt.show()"
   ]
  },
  {
   "cell_type": "code",
   "execution_count": null,
   "metadata": {},
   "outputs": [],
   "source": [
    "fig, ax = plt.subplots()\n",
    "ax.plot(get_value(tx_res, 'death'))\n",
    "# plt.show()"
   ]
  },
  {
   "cell_type": "code",
   "execution_count": null,
   "metadata": {},
   "outputs": [],
   "source": [
    "fig, ax = plt.subplots()\n",
    "ax.plot(get_value(tx_res, 'hospitalized'))\n",
    "# plt.show()"
   ]
  },
  {
   "cell_type": "code",
   "execution_count": null,
   "metadata": {},
   "outputs": [],
   "source": [
    "# all three plots\n",
    "fig, ax = plt.subplots()\n",
    "ax.plot(get_value(tx_res, 'positive'))\n",
    "ax.plot(get_value(tx_res, 'death'))\n",
    "ax.plot(get_value(tx_res, 'hospitalized'))\n",
    "# plt.show()"
   ]
  },
  {
   "cell_type": "code",
   "execution_count": null,
   "metadata": {},
   "outputs": [],
   "source": [
    "fig.savefig('out/texas.png')"
   ]
  },
  {
   "cell_type": "code",
   "execution_count": null,
   "metadata": {},
   "outputs": [],
   "source": [
    "ls out/"
   ]
  },
  {
   "cell_type": "markdown",
   "metadata": {},
   "source": [
    "### Solutions"
   ]
  },
  {
   "cell_type": "markdown",
   "metadata": {},
   "source": [
    "* Exercise: use Python csv module"
   ]
  },
  {
   "cell_type": "code",
   "execution_count": null,
   "metadata": {},
   "outputs": [],
   "source": [
    "def csv_reader(fname):\n",
    "    with open(fname, 'r') as csvfile:\n",
    "        csv_reader = csv.reader(csvfile)\n",
    "        # print(csv_reader)\n",
    "        rows = []\n",
    "        for i, line in enumerate(csv_reader):\n",
    "            values = line  # csv.reader takes care of new line\n",
    "            if i == 0:\n",
    "                headers = line\n",
    "            else:\n",
    "                for j, val in enumerate(values):\n",
    "                    try:\n",
    "                        val = int(val)\n",
    "                    except ValueError:\n",
    "                        pass\n",
    "                    else:\n",
    "                        values[j] = val\n",
    "                rows.append(dict(zip(headers, values)))\n",
    "        return rows"
   ]
  },
  {
   "cell_type": "code",
   "execution_count": null,
   "metadata": {},
   "outputs": [],
   "source": [
    "csv_reader(fname)[:2]"
   ]
  },
  {
   "cell_type": "code",
   "execution_count": null,
   "metadata": {},
   "outputs": [],
   "source": []
  }
 ],
 "metadata": {
  "kernelspec": {
   "display_name": "Python 3",
   "language": "python",
   "name": "python3"
  },
  "language_info": {
   "codemirror_mode": {
    "name": "ipython",
    "version": 3
   },
   "file_extension": ".py",
   "mimetype": "text/x-python",
   "name": "python",
   "nbconvert_exporter": "python",
   "pygments_lexer": "ipython3",
   "version": "3.8.2"
  }
 },
 "nbformat": 4,
 "nbformat_minor": 4
}
