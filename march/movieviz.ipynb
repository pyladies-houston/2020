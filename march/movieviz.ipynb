{
  "nbformat": 4,
  "nbformat_minor": 0,
  "metadata": {
    "colab": {
      "name": "movieviz.ipynb",
      "provenance": []
    },
    "kernelspec": {
      "name": "python3",
      "display_name": "Python 3"
    }
  },
  "cells": [
    {
      "cell_type": "markdown",
      "metadata": {
        "id": "0Wxtfn0O-oS9",
        "colab_type": "text"
      },
      "source": [
        "# Data Visualization with Python\n",
        "---\n",
        "\n",
        "\n",
        "\n",
        "\n"
      ]
    },
    {
      "cell_type": "markdown",
      "metadata": {
        "id": "LgT4GuyqaC1j",
        "colab_type": "text"
      },
      "source": [
        "## What and Why Data Visualization? \n",
        "![alt text](https://blog.hubspot.com/hs-fs/hub/53/file-2576089202-png/00-Blog_Thinkstock_Images/data-visualization-examples.png)\n",
        "\n",
        "\n",
        "One of the key skills of a data scientist is the ability to tell a compelling story. The human brain processes visual information much better and more quickly than text.\n",
        "\n",
        "Visualizing data helps extract information, better understand the data, and make effective decisions. \n",
        "\n",
        "The main goal of this tutorial is to help you get started with making visualizations in Python.\n",
        "\n",
        "We will go over the landscape of Python Visualization tools, and then use matplotlib, seaborn, and folium to teach you how to take data that at first glance has little meaning and expose the underlying trends and correlations in a form that makes sense to people."
      ]
    },
    {
      "cell_type": "markdown",
      "metadata": {
        "id": "X-wuJmrjXagZ",
        "colab_type": "text"
      },
      "source": [
        "## Python Data Visualization Landscape\n",
        "\n",
        "\n",
        "![Python Landscape](https://rougier.github.io/python-visualization-landscape/landscape-colors.png)\n"
      ]
    },
    {
      "cell_type": "markdown",
      "metadata": {
        "id": "i9MvmM1HXnOG",
        "colab_type": "text"
      },
      "source": [
        "# Basic Visualizations\n",
        "\n"
      ]
    },
    {
      "cell_type": "markdown",
      "metadata": {
        "id": "9hoWPbnDbhiR",
        "colab_type": "text"
      },
      "source": [
        "##Line Plot\n",
        "\n",
        "A line chart or line plot is a type of plot which displays information as a series of data points called 'markers' connected by straight line segments. It is a basic type of chart common in many fields.\n",
        "Use line plot when you have a continuous data set. These are best suited for trend-based visualizations of data over a period of time."
      ]
    },
    {
      "cell_type": "markdown",
      "metadata": {
        "id": "_9dqwU9Bsgtc",
        "colab_type": "text"
      },
      "source": [
        "##Area Plot\n",
        "An area plot also known as an area chart or graph is a type of plot that depicts accumulated totals using numbers or percentages over time. It is based on the line plot and is commonly used when trying to compare two or more quantities"
      ]
    },
    {
      "cell_type": "markdown",
      "metadata": {
        "id": "NhjEXBpQaC7M",
        "colab_type": "text"
      },
      "source": [
        "## Histogram\n",
        "A histogram is a way of representing the frequency distribution of a numeric dataset. The way it works is it partitions the spread of the numeric data into bins, assigns each datapoint in the dataset to a bin, and then counts the number of datapoints that have been assigned to each bin. So the vertical axis is actually the frequency or the number of datapoints in each bin."
      ]
    },
    {
      "cell_type": "markdown",
      "metadata": {
        "id": "DC3gosZ5ai26",
        "colab_type": "text"
      },
      "source": [
        "## Bar Chart \n",
        "A bar chart is a very popular visualization tool. Unlike a histogram, a bar chart also known as a bar graph is a type of plot where the length of each bar is proportional to the value of the item that it represents. It is commonly used to compare the values of a variable at a given point in time. "
      ]
    },
    {
      "cell_type": "markdown",
      "metadata": {
        "id": "LXslGr8lazvu",
        "colab_type": "text"
      },
      "source": [
        "## Waffle Chart\n",
        "A waffle chart is a great way to visualize data in relation to a whole or to highlight progress against a given threshold."
      ]
    },
    {
      "cell_type": "markdown",
      "metadata": {
        "id": "HEaXQUG4bHrX",
        "colab_type": "text"
      },
      "source": [
        " ## Word Cloud\n",
        " A word cloud is simply a depiction of the importance of different words in the body of text. A word cloud works in a simple way; the more a specific word appears in a source of textual data the bigger and bolder it appears in the world cloud."
      ]
    },
    {
      "cell_type": "markdown",
      "metadata": {
        "id": "yKUbqcGNYykS",
        "colab_type": "text"
      },
      "source": [
        "# Data Preparation\n",
        "To visualize and plot data, we have to prepare our data source.\n",
        "We are using Pandas, a popular data structure library to load, explore, and process our data.\n",
        "\n"
      ]
    },
    {
      "cell_type": "code",
      "metadata": {
        "id": "j9EkSfjg4Yo6",
        "colab_type": "code",
        "colab": {}
      },
      "source": [
        "import datetime as dt\n",
        "import matplotlib as mpl\n",
        "import matplotlib.pyplot as plt \n",
        "import pandas as pd \n",
        "pd.options.display.float_format = '{:.2f}'.format \n",
        "pd.options.display.min_rows = 50\n",
        "\n",
        "from IPython.core.interactiveshell import InteractiveShell\n",
        "InteractiveShell.ast_node_interactivity = \"all\""
      ],
      "execution_count": 0,
      "outputs": []
    },
    {
      "cell_type": "code",
      "metadata": {
        "id": "nVq3y6Pa98Og",
        "colab_type": "code",
        "outputId": "d1ebc76c-8964-4f29-e06b-553094f284cb",
        "colab": {
          "base_uri": "https://localhost:8080/",
          "height": 71
        }
      },
      "source": [
        "df = pd.read_csv('movies_metadata.csv') #load data"
      ],
      "execution_count": 2,
      "outputs": [
        {
          "output_type": "stream",
          "text": [
            "/usr/local/lib/python3.6/dist-packages/IPython/core/interactiveshell.py:2718: DtypeWarning: Columns (10) have mixed types. Specify dtype option on import or set low_memory=False.\n",
            "  interactivity=interactivity, compiler=compiler, result=result)\n"
          ],
          "name": "stderr"
        }
      ]
    },
    {
      "cell_type": "code",
      "metadata": {
        "id": "Nw2YoCX-YSDj",
        "colab_type": "code",
        "outputId": "f422adb1-cab1-4fbe-cdb5-284a80ffad3a",
        "colab": {
          "base_uri": "https://localhost:8080/",
          "height": 649
        }
      },
      "source": [
        "df.head(5)"
      ],
      "execution_count": 0,
      "outputs": [
        {
          "output_type": "execute_result",
          "data": {
            "text/html": [
              "<div>\n",
              "<style scoped>\n",
              "    .dataframe tbody tr th:only-of-type {\n",
              "        vertical-align: middle;\n",
              "    }\n",
              "\n",
              "    .dataframe tbody tr th {\n",
              "        vertical-align: top;\n",
              "    }\n",
              "\n",
              "    .dataframe thead th {\n",
              "        text-align: right;\n",
              "    }\n",
              "</style>\n",
              "<table border=\"1\" class=\"dataframe\">\n",
              "  <thead>\n",
              "    <tr style=\"text-align: right;\">\n",
              "      <th></th>\n",
              "      <th>adult</th>\n",
              "      <th>belongs_to_collection</th>\n",
              "      <th>budget</th>\n",
              "      <th>genres</th>\n",
              "      <th>homepage</th>\n",
              "      <th>id</th>\n",
              "      <th>imdb_id</th>\n",
              "      <th>original_language</th>\n",
              "      <th>original_title</th>\n",
              "      <th>overview</th>\n",
              "      <th>popularity</th>\n",
              "      <th>poster_path</th>\n",
              "      <th>production_companies</th>\n",
              "      <th>production_countries</th>\n",
              "      <th>release_date</th>\n",
              "      <th>revenue</th>\n",
              "      <th>runtime</th>\n",
              "      <th>spoken_languages</th>\n",
              "      <th>status</th>\n",
              "      <th>tagline</th>\n",
              "      <th>title</th>\n",
              "      <th>video</th>\n",
              "      <th>vote_average</th>\n",
              "      <th>vote_count</th>\n",
              "    </tr>\n",
              "  </thead>\n",
              "  <tbody>\n",
              "    <tr>\n",
              "      <th>0</th>\n",
              "      <td>False</td>\n",
              "      <td>{'id': 10194, 'name': 'Toy Story Collection', ...</td>\n",
              "      <td>30000000</td>\n",
              "      <td>[{'id': 16, 'name': 'Animation'}, {'id': 35, '...</td>\n",
              "      <td>http://toystory.disney.com/toy-story</td>\n",
              "      <td>862</td>\n",
              "      <td>tt0114709</td>\n",
              "      <td>en</td>\n",
              "      <td>Toy Story</td>\n",
              "      <td>Led by Woody, Andy's toys live happily in his ...</td>\n",
              "      <td>21.95</td>\n",
              "      <td>/rhIRbceoE9lR4veEXuwCC2wARtG.jpg</td>\n",
              "      <td>[{'name': 'Pixar Animation Studios', 'id': 3}]</td>\n",
              "      <td>[{'iso_3166_1': 'US', 'name': 'United States o...</td>\n",
              "      <td>1995-10-30</td>\n",
              "      <td>373554033.00</td>\n",
              "      <td>81.00</td>\n",
              "      <td>[{'iso_639_1': 'en', 'name': 'English'}]</td>\n",
              "      <td>Released</td>\n",
              "      <td>NaN</td>\n",
              "      <td>Toy Story</td>\n",
              "      <td>False</td>\n",
              "      <td>7.70</td>\n",
              "      <td>5415.00</td>\n",
              "    </tr>\n",
              "    <tr>\n",
              "      <th>1</th>\n",
              "      <td>False</td>\n",
              "      <td>NaN</td>\n",
              "      <td>65000000</td>\n",
              "      <td>[{'id': 12, 'name': 'Adventure'}, {'id': 14, '...</td>\n",
              "      <td>NaN</td>\n",
              "      <td>8844</td>\n",
              "      <td>tt0113497</td>\n",
              "      <td>en</td>\n",
              "      <td>Jumanji</td>\n",
              "      <td>When siblings Judy and Peter discover an encha...</td>\n",
              "      <td>17.02</td>\n",
              "      <td>/vzmL6fP7aPKNKPRTFnZmiUfciyV.jpg</td>\n",
              "      <td>[{'name': 'TriStar Pictures', 'id': 559}, {'na...</td>\n",
              "      <td>[{'iso_3166_1': 'US', 'name': 'United States o...</td>\n",
              "      <td>1995-12-15</td>\n",
              "      <td>262797249.00</td>\n",
              "      <td>104.00</td>\n",
              "      <td>[{'iso_639_1': 'en', 'name': 'English'}, {'iso...</td>\n",
              "      <td>Released</td>\n",
              "      <td>Roll the dice and unleash the excitement!</td>\n",
              "      <td>Jumanji</td>\n",
              "      <td>False</td>\n",
              "      <td>6.90</td>\n",
              "      <td>2413.00</td>\n",
              "    </tr>\n",
              "    <tr>\n",
              "      <th>2</th>\n",
              "      <td>False</td>\n",
              "      <td>{'id': 119050, 'name': 'Grumpy Old Men Collect...</td>\n",
              "      <td>0</td>\n",
              "      <td>[{'id': 10749, 'name': 'Romance'}, {'id': 35, ...</td>\n",
              "      <td>NaN</td>\n",
              "      <td>15602</td>\n",
              "      <td>tt0113228</td>\n",
              "      <td>en</td>\n",
              "      <td>Grumpier Old Men</td>\n",
              "      <td>A family wedding reignites the ancient feud be...</td>\n",
              "      <td>11.71</td>\n",
              "      <td>/6ksm1sjKMFLbO7UY2i6G1ju9SML.jpg</td>\n",
              "      <td>[{'name': 'Warner Bros.', 'id': 6194}, {'name'...</td>\n",
              "      <td>[{'iso_3166_1': 'US', 'name': 'United States o...</td>\n",
              "      <td>1995-12-22</td>\n",
              "      <td>0.00</td>\n",
              "      <td>101.00</td>\n",
              "      <td>[{'iso_639_1': 'en', 'name': 'English'}]</td>\n",
              "      <td>Released</td>\n",
              "      <td>Still Yelling. Still Fighting. Still Ready for...</td>\n",
              "      <td>Grumpier Old Men</td>\n",
              "      <td>False</td>\n",
              "      <td>6.50</td>\n",
              "      <td>92.00</td>\n",
              "    </tr>\n",
              "    <tr>\n",
              "      <th>3</th>\n",
              "      <td>False</td>\n",
              "      <td>NaN</td>\n",
              "      <td>16000000</td>\n",
              "      <td>[{'id': 35, 'name': 'Comedy'}, {'id': 18, 'nam...</td>\n",
              "      <td>NaN</td>\n",
              "      <td>31357</td>\n",
              "      <td>tt0114885</td>\n",
              "      <td>en</td>\n",
              "      <td>Waiting to Exhale</td>\n",
              "      <td>Cheated on, mistreated and stepped on, the wom...</td>\n",
              "      <td>3.86</td>\n",
              "      <td>/16XOMpEaLWkrcPqSQqhTmeJuqQl.jpg</td>\n",
              "      <td>[{'name': 'Twentieth Century Fox Film Corporat...</td>\n",
              "      <td>[{'iso_3166_1': 'US', 'name': 'United States o...</td>\n",
              "      <td>1995-12-22</td>\n",
              "      <td>81452156.00</td>\n",
              "      <td>127.00</td>\n",
              "      <td>[{'iso_639_1': 'en', 'name': 'English'}]</td>\n",
              "      <td>Released</td>\n",
              "      <td>Friends are the people who let you be yourself...</td>\n",
              "      <td>Waiting to Exhale</td>\n",
              "      <td>False</td>\n",
              "      <td>6.10</td>\n",
              "      <td>34.00</td>\n",
              "    </tr>\n",
              "    <tr>\n",
              "      <th>4</th>\n",
              "      <td>False</td>\n",
              "      <td>{'id': 96871, 'name': 'Father of the Bride Col...</td>\n",
              "      <td>0</td>\n",
              "      <td>[{'id': 35, 'name': 'Comedy'}]</td>\n",
              "      <td>NaN</td>\n",
              "      <td>11862</td>\n",
              "      <td>tt0113041</td>\n",
              "      <td>en</td>\n",
              "      <td>Father of the Bride Part II</td>\n",
              "      <td>Just when George Banks has recovered from his ...</td>\n",
              "      <td>8.39</td>\n",
              "      <td>/e64sOI48hQXyru7naBFyssKFxVd.jpg</td>\n",
              "      <td>[{'name': 'Sandollar Productions', 'id': 5842}...</td>\n",
              "      <td>[{'iso_3166_1': 'US', 'name': 'United States o...</td>\n",
              "      <td>1995-02-10</td>\n",
              "      <td>76578911.00</td>\n",
              "      <td>106.00</td>\n",
              "      <td>[{'iso_639_1': 'en', 'name': 'English'}]</td>\n",
              "      <td>Released</td>\n",
              "      <td>Just When His World Is Back To Normal... He's ...</td>\n",
              "      <td>Father of the Bride Part II</td>\n",
              "      <td>False</td>\n",
              "      <td>5.70</td>\n",
              "      <td>173.00</td>\n",
              "    </tr>\n",
              "  </tbody>\n",
              "</table>\n",
              "</div>"
            ],
            "text/plain": [
              "   adult  ... vote_count\n",
              "0  False  ...    5415.00\n",
              "1  False  ...    2413.00\n",
              "2  False  ...      92.00\n",
              "3  False  ...      34.00\n",
              "4  False  ...     173.00\n",
              "\n",
              "[5 rows x 24 columns]"
            ]
          },
          "metadata": {
            "tags": []
          },
          "execution_count": 135
        }
      ]
    },
    {
      "cell_type": "code",
      "metadata": {
        "id": "IARAVUzZXWpd",
        "colab_type": "code",
        "outputId": "7bf1cf8e-0943-4bca-db37-23f971c4a86a",
        "colab": {
          "base_uri": "https://localhost:8080/",
          "height": 35
        }
      },
      "source": [
        "df.shape"
      ],
      "execution_count": 0,
      "outputs": [
        {
          "output_type": "execute_result",
          "data": {
            "text/plain": [
              "(45466, 24)"
            ]
          },
          "metadata": {
            "tags": []
          },
          "execution_count": 136
        }
      ]
    },
    {
      "cell_type": "code",
      "metadata": {
        "id": "KtFL43PcykzW",
        "colab_type": "code",
        "outputId": "dd6ababd-3f76-4e18-c7f3-d022c5dab478",
        "colab": {
          "base_uri": "https://localhost:8080/",
          "height": 510
        }
      },
      "source": [
        "df.info()"
      ],
      "execution_count": 29,
      "outputs": [
        {
          "output_type": "stream",
          "text": [
            "<class 'pandas.core.frame.DataFrame'>\n",
            "RangeIndex: 45466 entries, 0 to 45465\n",
            "Data columns (total 24 columns):\n",
            "adult                    45466 non-null object\n",
            "belongs_to_collection    4494 non-null object\n",
            "budget                   45466 non-null object\n",
            "genres                   45466 non-null object\n",
            "homepage                 7782 non-null object\n",
            "id                       45466 non-null object\n",
            "imdb_id                  45449 non-null object\n",
            "original_language        45455 non-null object\n",
            "original_title           45466 non-null object\n",
            "overview                 44512 non-null object\n",
            "popularity               45461 non-null object\n",
            "poster_path              45080 non-null object\n",
            "production_companies     45463 non-null object\n",
            "production_countries     45463 non-null object\n",
            "release_date             45379 non-null object\n",
            "revenue                  45460 non-null float64\n",
            "runtime                  45203 non-null float64\n",
            "spoken_languages         45460 non-null object\n",
            "status                   45379 non-null object\n",
            "tagline                  20412 non-null object\n",
            "title                    45460 non-null object\n",
            "video                    45460 non-null object\n",
            "vote_average             45460 non-null float64\n",
            "vote_count               45460 non-null float64\n",
            "dtypes: float64(4), object(20)\n",
            "memory usage: 8.3+ MB\n"
          ],
          "name": "stdout"
        }
      ]
    },
    {
      "cell_type": "code",
      "metadata": {
        "id": "ZqE61ZEb7K_K",
        "colab_type": "code",
        "outputId": "d4bf9d91-a916-4429-a023-508cb4ee00d5",
        "colab": {
          "base_uri": "https://localhost:8080/",
          "height": 467
        }
      },
      "source": [
        "df.isnull().sum()/df.shape[0]*100 # check for percentage of missing data by column\n"
      ],
      "execution_count": 0,
      "outputs": [
        {
          "output_type": "execute_result",
          "data": {
            "text/plain": [
              "adult                    0.00\n",
              "belongs_to_collection   90.12\n",
              "budget                   0.00\n",
              "genres                   0.00\n",
              "homepage                82.88\n",
              "id                       0.00\n",
              "imdb_id                  0.04\n",
              "original_language        0.02\n",
              "original_title           0.00\n",
              "overview                 2.10\n",
              "popularity               0.01\n",
              "poster_path              0.85\n",
              "production_companies     0.01\n",
              "production_countries     0.01\n",
              "release_date             0.19\n",
              "revenue                  0.01\n",
              "runtime                  0.58\n",
              "spoken_languages         0.01\n",
              "status                   0.19\n",
              "tagline                 55.10\n",
              "title                    0.01\n",
              "video                    0.01\n",
              "vote_average             0.01\n",
              "vote_count               0.01\n",
              "dtype: float64"
            ]
          },
          "metadata": {
            "tags": []
          },
          "execution_count": 137
        }
      ]
    },
    {
      "cell_type": "markdown",
      "metadata": {
        "id": "iYeO1gPcKZ2I",
        "colab_type": "text"
      },
      "source": [
        "# Pointed Questions\n",
        "### 1. What is the average budget by original language?"
      ]
    },
    {
      "cell_type": "code",
      "metadata": {
        "id": "5rudjTnP30UT",
        "colab_type": "code",
        "colab": {}
      },
      "source": [
        "#convert to correct data types. budget to number\n",
        "df.budget = pd.to_numeric(df.budget, errors = 'coerce')\n",
        "df.popularity = pd.to_numeric(df.popularity, errors = 'coerce')\n"
      ],
      "execution_count": 0,
      "outputs": []
    },
    {
      "cell_type": "code",
      "metadata": {
        "id": "Q1oFZ6GLCsIH",
        "colab_type": "code",
        "colab": {}
      },
      "source": [
        "df['original_language'] = df['original_language'].astype('str')"
      ],
      "execution_count": 0,
      "outputs": []
    },
    {
      "cell_type": "code",
      "metadata": {
        "colab_type": "code",
        "outputId": "ee235ab9-ffe7-45e3-de73-08d10a8fb22e",
        "id": "yoHqv5O3LqAR",
        "colab": {
          "base_uri": "https://localhost:8080/",
          "height": 170
        }
      },
      "source": [
        "df.original_language.unique()"
      ],
      "execution_count": 0,
      "outputs": [
        {
          "output_type": "execute_result",
          "data": {
            "text/plain": [
              "array(['en', 'fr', 'zh', 'it', 'fa', 'nl', 'de', 'cn', 'ar', 'es', 'ru',\n",
              "       'sv', 'ja', 'ko', 'sr', 'bn', 'he', 'pt', 'wo', 'ro', 'hu', 'cy',\n",
              "       'vi', 'cs', 'da', 'no', 'nb', 'pl', 'el', 'sh', 'xx', 'mk', 'bo',\n",
              "       'ca', 'fi', 'th', 'sk', 'bs', 'hi', 'tr', 'is', 'ps', 'ab', 'eo',\n",
              "       'ka', 'mn', 'bm', 'zu', 'uk', 'af', 'la', 'et', 'ku', 'fy', 'lv',\n",
              "       'ta', 'sl', 'tl', 'ur', 'rw', 'id', 'bg', 'mr', 'lt', 'kk', 'ms',\n",
              "       'sq', 'nan', '104.0', 'qu', 'te', 'am', 'jv', 'tg', 'ml', 'hr',\n",
              "       'lo', 'ay', 'kn', 'eu', 'ne', 'pa', 'ky', 'gl', '68.0', 'uz', 'sm',\n",
              "       'mt', '82.0', 'hy', 'iu', 'lb', 'si'], dtype=object)"
            ]
          },
          "metadata": {
            "tags": []
          },
          "execution_count": 21
        }
      ]
    },
    {
      "cell_type": "code",
      "metadata": {
        "id": "8ZVtrQtk9XOk",
        "colab_type": "code",
        "colab": {}
      },
      "source": [
        "df = df[df['original_language'] != '68.0']\n",
        "df = df[df['original_language'] != '82.0']\n",
        "df = df[df['original_language'] != '104.0']"
      ],
      "execution_count": 0,
      "outputs": []
    },
    {
      "cell_type": "code",
      "metadata": {
        "id": "k1d_D84y9Doq",
        "colab_type": "code",
        "outputId": "5d055e5a-08b1-4afe-d90e-380400529530",
        "colab": {
          "base_uri": "https://localhost:8080/",
          "height": 170
        }
      },
      "source": [
        "df.original_language.unique()"
      ],
      "execution_count": 0,
      "outputs": [
        {
          "output_type": "execute_result",
          "data": {
            "text/plain": [
              "array(['en', 'fr', 'zh', 'it', 'fa', 'nl', 'de', 'cn', 'ar', 'es', 'ru',\n",
              "       'sv', 'ja', 'ko', 'sr', 'bn', 'he', 'pt', 'wo', 'ro', 'hu', 'cy',\n",
              "       'vi', 'cs', 'da', 'no', 'nb', 'pl', 'el', 'sh', 'xx', 'mk', 'bo',\n",
              "       'ca', 'fi', 'th', 'sk', 'bs', 'hi', 'tr', 'is', 'ps', 'ab', 'eo',\n",
              "       'ka', 'mn', 'bm', 'zu', 'uk', 'af', 'la', 'et', 'ku', 'fy', 'lv',\n",
              "       'ta', 'sl', 'tl', 'ur', 'rw', 'id', 'bg', 'mr', 'lt', 'kk', 'ms',\n",
              "       'sq', 'nan', 'qu', 'te', 'am', 'jv', 'tg', 'ml', 'hr', 'lo', 'ay',\n",
              "       'kn', 'eu', 'ne', 'pa', 'ky', 'gl', 'uz', 'sm', 'mt', 'hy', 'iu',\n",
              "       'lb', 'si'], dtype=object)"
            ]
          },
          "metadata": {
            "tags": []
          },
          "execution_count": 23
        }
      ]
    },
    {
      "cell_type": "code",
      "metadata": {
        "id": "yt5lPyaH6byC",
        "colab_type": "code",
        "outputId": "625840aa-e2ca-4b20-80b3-a1462334ed92",
        "colab": {
          "base_uri": "https://localhost:8080/",
          "height": 701
        }
      },
      "source": [
        "df_test = df[['original_language','budget']]\n",
        "df_test.head(10)\n",
        "df_grp = df_test.groupby(['original_language'], as_index = False).mean()\n",
        "df_grp.head(10)"
      ],
      "execution_count": 0,
      "outputs": [
        {
          "output_type": "execute_result",
          "data": {
            "text/html": [
              "<div>\n",
              "<style scoped>\n",
              "    .dataframe tbody tr th:only-of-type {\n",
              "        vertical-align: middle;\n",
              "    }\n",
              "\n",
              "    .dataframe tbody tr th {\n",
              "        vertical-align: top;\n",
              "    }\n",
              "\n",
              "    .dataframe thead th {\n",
              "        text-align: right;\n",
              "    }\n",
              "</style>\n",
              "<table border=\"1\" class=\"dataframe\">\n",
              "  <thead>\n",
              "    <tr style=\"text-align: right;\">\n",
              "      <th></th>\n",
              "      <th>original_language</th>\n",
              "      <th>budget</th>\n",
              "    </tr>\n",
              "  </thead>\n",
              "  <tbody>\n",
              "    <tr>\n",
              "      <th>0</th>\n",
              "      <td>en</td>\n",
              "      <td>30000000.00</td>\n",
              "    </tr>\n",
              "    <tr>\n",
              "      <th>1</th>\n",
              "      <td>en</td>\n",
              "      <td>65000000.00</td>\n",
              "    </tr>\n",
              "    <tr>\n",
              "      <th>2</th>\n",
              "      <td>en</td>\n",
              "      <td>0.00</td>\n",
              "    </tr>\n",
              "    <tr>\n",
              "      <th>3</th>\n",
              "      <td>en</td>\n",
              "      <td>16000000.00</td>\n",
              "    </tr>\n",
              "    <tr>\n",
              "      <th>4</th>\n",
              "      <td>en</td>\n",
              "      <td>0.00</td>\n",
              "    </tr>\n",
              "    <tr>\n",
              "      <th>5</th>\n",
              "      <td>en</td>\n",
              "      <td>60000000.00</td>\n",
              "    </tr>\n",
              "    <tr>\n",
              "      <th>6</th>\n",
              "      <td>en</td>\n",
              "      <td>58000000.00</td>\n",
              "    </tr>\n",
              "    <tr>\n",
              "      <th>7</th>\n",
              "      <td>en</td>\n",
              "      <td>0.00</td>\n",
              "    </tr>\n",
              "    <tr>\n",
              "      <th>8</th>\n",
              "      <td>en</td>\n",
              "      <td>35000000.00</td>\n",
              "    </tr>\n",
              "    <tr>\n",
              "      <th>9</th>\n",
              "      <td>en</td>\n",
              "      <td>58000000.00</td>\n",
              "    </tr>\n",
              "  </tbody>\n",
              "</table>\n",
              "</div>"
            ],
            "text/plain": [
              "  original_language      budget\n",
              "0                en 30000000.00\n",
              "1                en 65000000.00\n",
              "2                en        0.00\n",
              "3                en 16000000.00\n",
              "4                en        0.00\n",
              "5                en 60000000.00\n",
              "6                en 58000000.00\n",
              "7                en        0.00\n",
              "8                en 35000000.00\n",
              "9                en 58000000.00"
            ]
          },
          "metadata": {
            "tags": []
          },
          "execution_count": 24
        },
        {
          "output_type": "execute_result",
          "data": {
            "text/html": [
              "<div>\n",
              "<style scoped>\n",
              "    .dataframe tbody tr th:only-of-type {\n",
              "        vertical-align: middle;\n",
              "    }\n",
              "\n",
              "    .dataframe tbody tr th {\n",
              "        vertical-align: top;\n",
              "    }\n",
              "\n",
              "    .dataframe thead th {\n",
              "        text-align: right;\n",
              "    }\n",
              "</style>\n",
              "<table border=\"1\" class=\"dataframe\">\n",
              "  <thead>\n",
              "    <tr style=\"text-align: right;\">\n",
              "      <th></th>\n",
              "      <th>original_language</th>\n",
              "      <th>budget</th>\n",
              "    </tr>\n",
              "  </thead>\n",
              "  <tbody>\n",
              "    <tr>\n",
              "      <th>0</th>\n",
              "      <td>ab</td>\n",
              "      <td>0.00</td>\n",
              "    </tr>\n",
              "    <tr>\n",
              "      <th>1</th>\n",
              "      <td>af</td>\n",
              "      <td>1500000.00</td>\n",
              "    </tr>\n",
              "    <tr>\n",
              "      <th>2</th>\n",
              "      <td>am</td>\n",
              "      <td>0.00</td>\n",
              "    </tr>\n",
              "    <tr>\n",
              "      <th>3</th>\n",
              "      <td>ar</td>\n",
              "      <td>94871.79</td>\n",
              "    </tr>\n",
              "    <tr>\n",
              "      <th>4</th>\n",
              "      <td>ay</td>\n",
              "      <td>0.00</td>\n",
              "    </tr>\n",
              "    <tr>\n",
              "      <th>5</th>\n",
              "      <td>bg</td>\n",
              "      <td>79644.20</td>\n",
              "    </tr>\n",
              "    <tr>\n",
              "      <th>6</th>\n",
              "      <td>bm</td>\n",
              "      <td>666666.67</td>\n",
              "    </tr>\n",
              "    <tr>\n",
              "      <th>7</th>\n",
              "      <td>bn</td>\n",
              "      <td>0.00</td>\n",
              "    </tr>\n",
              "    <tr>\n",
              "      <th>8</th>\n",
              "      <td>bo</td>\n",
              "      <td>600000.00</td>\n",
              "    </tr>\n",
              "    <tr>\n",
              "      <th>9</th>\n",
              "      <td>bs</td>\n",
              "      <td>72296.64</td>\n",
              "    </tr>\n",
              "  </tbody>\n",
              "</table>\n",
              "</div>"
            ],
            "text/plain": [
              "  original_language     budget\n",
              "0                ab       0.00\n",
              "1                af 1500000.00\n",
              "2                am       0.00\n",
              "3                ar   94871.79\n",
              "4                ay       0.00\n",
              "5                bg   79644.20\n",
              "6                bm  666666.67\n",
              "7                bn       0.00\n",
              "8                bo  600000.00\n",
              "9                bs   72296.64"
            ]
          },
          "metadata": {
            "tags": []
          },
          "execution_count": 24
        }
      ]
    },
    {
      "cell_type": "code",
      "metadata": {
        "id": "kpbUuZ1D-YtA",
        "colab_type": "code",
        "outputId": "18bb66a4-4292-4c30-b434-7d7df42209b3",
        "colab": {
          "base_uri": "https://localhost:8080/",
          "height": 516
        }
      },
      "source": [
        "plt.figure(figsize = (15,8))\n",
        "df_grp['budget'].plot(kind = 'bar')\n",
        "plt.title('bar chart')\n",
        "plt.ylabel('budget')\n",
        "plt.xlabel('language')\n",
        "plt.show();"
      ],
      "execution_count": 0,
      "outputs": [
        {
          "output_type": "display_data",
          "data": {
            "image/png": "[encoded data removed]",
            "text/plain": [
              "<Figure size 1080x576 with 1 Axes>"
            ]
          },
          "metadata": {
            "tags": []
          }
        }
      ]
    },
    {
      "cell_type": "markdown",
      "metadata": {
        "id": "QHYhknvgYpL8",
        "colab_type": "text"
      },
      "source": [
        "### 2. What is the frequency distribution of the runtime?"
      ]
    },
    {
      "cell_type": "code",
      "metadata": {
        "id": "mOmxvWowxNiF",
        "colab_type": "code",
        "outputId": "fe280659-909c-4e9d-f275-afb0e2fa6d05",
        "colab": {
          "base_uri": "https://localhost:8080/",
          "height": 295
        }
      },
      "source": [
        "df['runtime'].plot(kind = 'hist')\n",
        "plt.title('Histogram of runtime of movies')\n",
        "plt.ylabel('number of movies')\n",
        "plt.xlabel('runtime (in minutes)')\n",
        "plt.show();"
      ],
      "execution_count": 0,
      "outputs": [
        {
          "output_type": "display_data",
          "data": {
            "image/png": "[encoded data removed]",
            "text/plain": [
              "<Figure size 432x288 with 1 Axes>"
            ]
          },
          "metadata": {
            "tags": []
          }
        }
      ]
    },
    {
      "cell_type": "markdown",
      "metadata": {
        "id": "0rl3taayYmku",
        "colab_type": "text"
      },
      "source": [
        "### 3. The era of the 90s RomCom. Was that really a thing?"
      ]
    },
    {
      "cell_type": "code",
      "metadata": {
        "id": "X4rNwxSXcQhq",
        "colab_type": "code",
        "colab": {
          "base_uri": "https://localhost:8080/",
          "height": 136
        },
        "outputId": "0690a5a5-e709-45c1-9797-3a6d0468343b"
      },
      "source": [
        "df.columns"
      ],
      "execution_count": 30,
      "outputs": [
        {
          "output_type": "execute_result",
          "data": {
            "text/plain": [
              "Index(['adult', 'belongs_to_collection', 'budget', 'genres', 'homepage', 'id',\n",
              "       'imdb_id', 'original_language', 'original_title', 'overview',\n",
              "       'popularity', 'poster_path', 'production_companies',\n",
              "       'production_countries', 'release_date', 'revenue', 'runtime',\n",
              "       'spoken_languages', 'status', 'tagline', 'title', 'video',\n",
              "       'vote_average', 'vote_count'],\n",
              "      dtype='object')"
            ]
          },
          "metadata": {
            "tags": []
          },
          "execution_count": 30
        }
      ]
    },
    {
      "cell_type": "code",
      "metadata": {
        "id": "XEhtuYbwcVHz",
        "colab_type": "code",
        "colab": {
          "base_uri": "https://localhost:8080/",
          "height": 289
        },
        "outputId": "c6252d78-9da7-40ea-b4ca-377150ec3cb4"
      },
      "source": [
        "df[['original_title', 'genres', 'popularity', 'vote_average', 'release_date']].head()"
      ],
      "execution_count": 32,
      "outputs": [
        {
          "output_type": "execute_result",
          "data": {
            "text/html": [
              "<div>\n",
              "<style scoped>\n",
              "    .dataframe tbody tr th:only-of-type {\n",
              "        vertical-align: middle;\n",
              "    }\n",
              "\n",
              "    .dataframe tbody tr th {\n",
              "        vertical-align: top;\n",
              "    }\n",
              "\n",
              "    .dataframe thead th {\n",
              "        text-align: right;\n",
              "    }\n",
              "</style>\n",
              "<table border=\"1\" class=\"dataframe\">\n",
              "  <thead>\n",
              "    <tr style=\"text-align: right;\">\n",
              "      <th></th>\n",
              "      <th>original_title</th>\n",
              "      <th>genres</th>\n",
              "      <th>popularity</th>\n",
              "      <th>vote_average</th>\n",
              "      <th>release_date</th>\n",
              "    </tr>\n",
              "  </thead>\n",
              "  <tbody>\n",
              "    <tr>\n",
              "      <th>0</th>\n",
              "      <td>Toy Story</td>\n",
              "      <td>[{'id': 16, 'name': 'Animation'}, {'id': 35, '...</td>\n",
              "      <td>21.95</td>\n",
              "      <td>7.70</td>\n",
              "      <td>1995-10-30</td>\n",
              "    </tr>\n",
              "    <tr>\n",
              "      <th>1</th>\n",
              "      <td>Jumanji</td>\n",
              "      <td>[{'id': 12, 'name': 'Adventure'}, {'id': 14, '...</td>\n",
              "      <td>17.02</td>\n",
              "      <td>6.90</td>\n",
              "      <td>1995-12-15</td>\n",
              "    </tr>\n",
              "    <tr>\n",
              "      <th>2</th>\n",
              "      <td>Grumpier Old Men</td>\n",
              "      <td>[{'id': 10749, 'name': 'Romance'}, {'id': 35, ...</td>\n",
              "      <td>11.71</td>\n",
              "      <td>6.50</td>\n",
              "      <td>1995-12-22</td>\n",
              "    </tr>\n",
              "    <tr>\n",
              "      <th>3</th>\n",
              "      <td>Waiting to Exhale</td>\n",
              "      <td>[{'id': 35, 'name': 'Comedy'}, {'id': 18, 'nam...</td>\n",
              "      <td>3.86</td>\n",
              "      <td>6.10</td>\n",
              "      <td>1995-12-22</td>\n",
              "    </tr>\n",
              "    <tr>\n",
              "      <th>4</th>\n",
              "      <td>Father of the Bride Part II</td>\n",
              "      <td>[{'id': 35, 'name': 'Comedy'}]</td>\n",
              "      <td>8.39</td>\n",
              "      <td>5.70</td>\n",
              "      <td>1995-02-10</td>\n",
              "    </tr>\n",
              "  </tbody>\n",
              "</table>\n",
              "</div>"
            ],
            "text/plain": [
              "                original_title  ... release_date\n",
              "0                    Toy Story  ...   1995-10-30\n",
              "1                      Jumanji  ...   1995-12-15\n",
              "2             Grumpier Old Men  ...   1995-12-22\n",
              "3            Waiting to Exhale  ...   1995-12-22\n",
              "4  Father of the Bride Part II  ...   1995-02-10\n",
              "\n",
              "[5 rows x 5 columns]"
            ]
          },
          "metadata": {
            "tags": []
          },
          "execution_count": 32
        }
      ]
    },
    {
      "cell_type": "code",
      "metadata": {
        "id": "6S4kXUXZa46D",
        "colab_type": "code",
        "colab": {}
      },
      "source": [
        "def is_rom_com(genres):\n",
        "    if ('Romance' in genres) and ('Comedy' in genres):\n",
        "        return 1\n",
        "    else:\n",
        "        return 0\n",
        "\n",
        "# data processing\n",
        "# - convert release_date str to datetime object\n",
        "# - identify genres assigned to a movie\n",
        "# - drop non-meaningful values in release_date\n",
        "df = df[df['release_date'] != '1']\n",
        "df = df[df['release_date'] != '12']\n",
        "df = df[df['release_date'] != '22']\n",
        "df.dropna(subset=['release_date'], inplace=True)\n",
        "df['is_rom_com'] = df['genres'].apply(lambda x: is_rom_com([genre['name'] for genre in eval(x)]))\n",
        "df['release_year'] = df['release_date'].apply(lambda y: dt.datetime.strptime(y, '%Y-%m-%d').year)\n",
        "rom_coms_by_year = df.groupby(['release_year'])['is_rom_com'].sum()"
      ],
      "execution_count": 0,
      "outputs": []
    },
    {
      "cell_type": "code",
      "metadata": {
        "id": "2EB-ZNM5L7i4",
        "colab_type": "code",
        "colab": {}
      },
      "source": [
        "rom_coms_by_year.tail()"
      ],
      "execution_count": 0,
      "outputs": []
    },
    {
      "cell_type": "code",
      "metadata": {
        "id": "lK_al32bZUwa",
        "colab_type": "code",
        "colab": {
          "base_uri": "https://localhost:8080/",
          "height": 533
        },
        "outputId": "fcb7a906-25f7-4499-a1e5-5d8f89c1d74c"
      },
      "source": [
        "figsize = (15,8)\n",
        "plt.figure(1, figsize=figsize)\n",
        "plt.plot(rom_coms_by_year.index, rom_coms_by_year.values)\n",
        "plt.title('Number of romantic comedy films over time')\n",
        "plt.ylabel('count')\n",
        "plt.xlabel('Number of films');\n"
      ],
      "execution_count": 25,
      "outputs": [
        {
          "output_type": "display_data",
          "data": {
            "image/png": "[encoded data removed]",
            "text/plain": [
              "<Figure size 1080x576 with 1 Axes>"
            ]
          },
          "metadata": {
            "tags": []
          }
        }
      ]
    },
    {
      "cell_type": "markdown",
      "metadata": {
        "id": "TPnUz3FHhc7p",
        "colab_type": "text"
      },
      "source": [
        "### 4. Is there a relationship between a movie's rating and the amount of revenue it generates?"
      ]
    },
    {
      "cell_type": "code",
      "metadata": {
        "id": "VkO72MQ9hce-",
        "colab_type": "code",
        "colab": {
          "base_uri": "https://localhost:8080/",
          "height": 533
        },
        "outputId": "94cca6be-e4cd-4257-8273-97d0cc29b2c7"
      },
      "source": [
        "plt.figure(2, figsize=figsize)\n",
        "plt.plot(df['vote_average'], df['revenue'], '.')\n",
        "plt.title('Revenue by ratings')\n",
        "plt.ylabel('Revenue')\n",
        "plt.xlabel('Average vote');"
      ],
      "execution_count": 54,
      "outputs": [
        {
          "output_type": "display_data",
          "data": {
            "image/png": "[encoded data removed]",
            "text/plain": [
              "<Figure size 1080x576 with 1 Axes>"
            ]
          },
          "metadata": {
            "tags": []
          }
        }
      ]
    },
    {
      "cell_type": "code",
      "metadata": {
        "id": "xr0684fgitEj",
        "colab_type": "code",
        "colab": {
          "base_uri": "https://localhost:8080/",
          "height": 533
        },
        "outputId": "efe424c9-fff2-48b6-b338-2fedb3776803"
      },
      "source": [
        "plt.figure(3, figsize=figsize)\n",
        "plt.bar(df['vote_average'], df['revenue'])\n",
        "plt.title('Revenue by ratings')\n",
        "plt.ylabel('Revenue')\n",
        "plt.xlabel('Average vote');"
      ],
      "execution_count": 55,
      "outputs": [
        {
          "output_type": "display_data",
          "data": {
            "image/png": "[encoded data removed]",
            "text/plain": [
              "<Figure size 1080x576 with 1 Axes>"
            ]
          },
          "metadata": {
            "tags": []
          }
        }
      ]
    },
    {
      "cell_type": "markdown",
      "metadata": {
        "id": "YGHBobHt3uc_",
        "colab_type": "text"
      },
      "source": [
        "# Potential questions\n",
        "Are foreign langauge films higher rated?"
      ]
    },
    {
      "cell_type": "markdown",
      "metadata": {
        "id": "SPAqhh1UXyVc",
        "colab_type": "text"
      },
      "source": [
        "#References + Resources\n",
        "- [Python Graphy Gallery](https://python-graph-gallery.com/). A website that features a collection of graphs and reproducible python code to generate those graphs. \n",
        "- [Pyviz](http://pyviz.org/). An open platform dedicated to helping users decide on the best open-source (OSS) Python data visualization tools. \n",
        "- [Matplotlib](http://aosabook.org/en/matplotlib.html). An article about the history and architecture of Matplotlib, written by its founders. \n",
        "- [Python Data Science Handbook](https://jakevdp.github.io/PythonDataScienceHandbook/) by Jake VanderPlas\n",
        "- The dataset is assembled by user rounakbanik on Kaggle. Learn more about her project [here](https://www.kaggle.com/rounakbanik/the-movies-dataset). \n",
        "- [Python Grids](http://www.pythongrids.org/grids/g/data-visualization/) is a website that compares stats on 14 Python plotting libraries.\n"
      ]
    }
  ]
}