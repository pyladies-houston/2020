{
 "cells": [
  {
   "cell_type": "markdown",
   "metadata": {
    "colab_type": "text",
    "id": "0Wxtfn0O-oS9"
   },
   "source": [
    "# Data Visualization with Python\n",
    "---\n",
    "\n",
    "\n",
    "\n",
    "\n"
   ]
  },
  {
   "cell_type": "markdown",
   "metadata": {
    "colab_type": "text",
    "id": "LgT4GuyqaC1j"
   },
   "source": [
    "## What and Why Data Visualization? \n",
    "![alt text](https://blog.hubspot.com/hs-fs/hub/53/file-2576089202-png/00-Blog_Thinkstock_Images/data-visualization-examples.png)\n",
    "\n",
    "\n",
    "One of the key skills of a data scientist is the ability to tell a compelling story. The human brain processes visual information much better and more quickly than text.\n",
    "\n",
    "Visualizing data helps extract information, better understand the data, and make effective decisions. \n",
    "\n",
    "The main goal of this tutorial is to help you get started with making visualizations in Python.\n",
    "\n",
    "We will go over the landscape of Python Visualization tools, and then use matplotlib, seaborn, and folium to teach you how to take data that at first glance has little meaning and expose the underlying trends and correlations in a form that makes sense to people."
   ]
  },
  {
   "cell_type": "markdown",
   "metadata": {
    "colab_type": "text",
    "id": "X-wuJmrjXagZ"
   },
   "source": [
    "## Python Data Visualization Landscape\n",
    "\n",
    "\n",
    "![Python Landscape](https://rougier.github.io/python-visualization-landscape/landscape-colors.png)\n"
   ]
  },
  {
   "cell_type": "markdown",
   "metadata": {
    "colab_type": "text",
    "id": "i9MvmM1HXnOG"
   },
   "source": [
    "# Basic Visualizations\n",
    "\n"
   ]
  },
  {
   "cell_type": "markdown",
   "metadata": {
    "colab_type": "text",
    "id": "9hoWPbnDbhiR"
   },
   "source": [
    "##Line Plot\n",
    "\n",
    "A line chart or line plot is a type of plot which displays information as a series of data points called 'markers' connected by straight line segments. It is a basic type of chart common in many fields.\n",
    "Use line plot when you have a continuous data set. These are best suited for trend-based visualizations of data over a period of time."
   ]
  },
  {
   "cell_type": "markdown",
   "metadata": {
    "colab_type": "text",
    "id": "_9dqwU9Bsgtc"
   },
   "source": [
    "##Area Plot\n",
    "An area plot also known as an area chart or graph is a type of plot that depicts accumulated totals using numbers or percentages over time. It is based on the line plot and is commonly used when trying to compare two or more quantities"
   ]
  },
  {
   "cell_type": "markdown",
   "metadata": {
    "colab_type": "text",
    "id": "NhjEXBpQaC7M"
   },
   "source": [
    "## Histogram\n",
    "A histogram is a way of representing the frequency distribution of a numeric dataset. The way it works is it partitions the spread of the numeric data into bins, assigns each datapoint in the dataset to a bin, and then counts the number of datapoints that have been assigned to each bin. So the vertical axis is actually the frequency or the number of datapoints in each bin."
   ]
  },
  {
   "cell_type": "markdown",
   "metadata": {
    "colab_type": "text",
    "id": "DC3gosZ5ai26"
   },
   "source": [
    "## Bar Chart \n",
    "A bar chart is a very popular visualization tool. Unlike a histogram, a bar chart also known as a bar graph is a type of plot where the length of each bar is proportional to the value of the item that it represents. It is commonly used to compare the values of a variable at a given point in time. "
   ]
  },
  {
   "cell_type": "markdown",
   "metadata": {
    "colab_type": "text",
    "id": "LXslGr8lazvu"
   },
   "source": [
    "## Waffle Chart\n",
    "A waffle chart is a great way to visualize data in relation to a whole or to highlight progress against a given threshold."
   ]
  },
  {
   "cell_type": "markdown",
   "metadata": {
    "colab_type": "text",
    "id": "HEaXQUG4bHrX"
   },
   "source": [
    " ## Word Cloud\n",
    " A word cloud is simply a depiction of the importance of different words in the body of text. A word cloud works in a simple way; the more a specific word appears in a source of textual data the bigger and bolder it appears in the world cloud."
   ]
  },
  {
   "cell_type": "markdown",
   "metadata": {
    "colab_type": "text",
    "id": "yKUbqcGNYykS"
   },
   "source": [
    "# Data Preparation\n",
    "To visualize and plot data, we have to prepare our data source.\n",
    "We are using Pandas, a popular data structure library to load, explore, and process our data.\n",
    "\n"
   ]
  },
  {
   "cell_type": "code",
   "execution_count": null,
   "metadata": {
    "colab": {},
    "colab_type": "code",
    "id": "j9EkSfjg4Yo6"
   },
   "outputs": [],
   "source": [
    "import datetime as dt\n",
    "import matplotlib as mpl\n",
    "import matplotlib.pyplot as plt \n",
    "import pandas as pd \n",
    "pd.options.display.float_format = '{:.2f}'.format \n",
    "pd.options.display.min_rows = 50\n",
    "\n",
    "from IPython.core.interactiveshell import InteractiveShell\n",
    "InteractiveShell.ast_node_interactivity = \"all\""
   ]
  },
  {
   "cell_type": "code",
   "execution_count": null,
   "metadata": {
    "colab": {
     "base_uri": "https://localhost:8080/",
     "height": 71
    },
    "colab_type": "code",
    "id": "nVq3y6Pa98Og",
    "outputId": "d1ebc76c-8964-4f29-e06b-553094f284cb"
   },
   "outputs": [],
   "source": [
    "df = pd.read_csv('movies_metadata.csv') #load data"
   ]
  },
  {
   "cell_type": "code",
   "execution_count": null,
   "metadata": {
    "colab": {
     "base_uri": "https://localhost:8080/",
     "height": 649
    },
    "colab_type": "code",
    "id": "Nw2YoCX-YSDj",
    "outputId": "f422adb1-cab1-4fbe-cdb5-284a80ffad3a"
   },
   "outputs": [],
   "source": [
    "df.head(5)"
   ]
  },
  {
   "cell_type": "code",
   "execution_count": null,
   "metadata": {
    "colab": {
     "base_uri": "https://localhost:8080/",
     "height": 35
    },
    "colab_type": "code",
    "id": "IARAVUzZXWpd",
    "outputId": "7bf1cf8e-0943-4bca-db37-23f971c4a86a"
   },
   "outputs": [],
   "source": [
    "df.shape"
   ]
  },
  {
   "cell_type": "code",
   "execution_count": null,
   "metadata": {
    "colab": {
     "base_uri": "https://localhost:8080/",
     "height": 510
    },
    "colab_type": "code",
    "id": "KtFL43PcykzW",
    "outputId": "dd6ababd-3f76-4e18-c7f3-d022c5dab478"
   },
   "outputs": [],
   "source": [
    "df.info()"
   ]
  },
  {
   "cell_type": "code",
   "execution_count": null,
   "metadata": {
    "colab": {
     "base_uri": "https://localhost:8080/",
     "height": 467
    },
    "colab_type": "code",
    "id": "ZqE61ZEb7K_K",
    "outputId": "d4bf9d91-a916-4429-a023-508cb4ee00d5"
   },
   "outputs": [],
   "source": [
    "df.isnull().sum()/df.shape[0]*100 # check for percentage of missing data by column\n"
   ]
  },
  {
   "cell_type": "markdown",
   "metadata": {
    "colab_type": "text",
    "id": "iYeO1gPcKZ2I"
   },
   "source": [
    "# Pointed Questions\n",
    "### 1. What is the average budget by original language?"
   ]
  },
  {
   "cell_type": "code",
   "execution_count": null,
   "metadata": {
    "colab": {},
    "colab_type": "code",
    "id": "5rudjTnP30UT"
   },
   "outputs": [],
   "source": [
    "#convert to correct data types. budget to number\n",
    "df.budget = pd.to_numeric(df.budget, errors = 'coerce')\n",
    "df.popularity = pd.to_numeric(df.popularity, errors = 'coerce')\n"
   ]
  },
  {
   "cell_type": "code",
   "execution_count": null,
   "metadata": {
    "colab": {},
    "colab_type": "code",
    "id": "Q1oFZ6GLCsIH"
   },
   "outputs": [],
   "source": [
    "df['original_language'] = df['original_language'].astype('str')"
   ]
  },
  {
   "cell_type": "code",
   "execution_count": null,
   "metadata": {
    "colab": {
     "base_uri": "https://localhost:8080/",
     "height": 170
    },
    "colab_type": "code",
    "id": "yoHqv5O3LqAR",
    "outputId": "ee235ab9-ffe7-45e3-de73-08d10a8fb22e"
   },
   "outputs": [],
   "source": [
    "df.original_language.unique()"
   ]
  },
  {
   "cell_type": "code",
   "execution_count": null,
   "metadata": {
    "colab": {},
    "colab_type": "code",
    "id": "8ZVtrQtk9XOk"
   },
   "outputs": [],
   "source": [
    "df = df[df['original_language'] != '68.0']\n",
    "df = df[df['original_language'] != '82.0']\n",
    "df = df[df['original_language'] != '104.0']"
   ]
  },
  {
   "cell_type": "code",
   "execution_count": null,
   "metadata": {
    "colab": {
     "base_uri": "https://localhost:8080/",
     "height": 170
    },
    "colab_type": "code",
    "id": "k1d_D84y9Doq",
    "outputId": "5d055e5a-08b1-4afe-d90e-380400529530"
   },
   "outputs": [],
   "source": [
    "df.original_language.unique()"
   ]
  },
  {
   "cell_type": "code",
   "execution_count": null,
   "metadata": {
    "colab": {
     "base_uri": "https://localhost:8080/",
     "height": 701
    },
    "colab_type": "code",
    "id": "yt5lPyaH6byC",
    "outputId": "625840aa-e2ca-4b20-80b3-a1462334ed92"
   },
   "outputs": [],
   "source": [
    "df_test = df[['original_language','budget']]\n",
    "df_test.head(10)\n",
    "df_grp = df_test.groupby(['original_language'], as_index = False).mean()\n",
    "df_grp.head(10)"
   ]
  },
  {
   "cell_type": "code",
   "execution_count": null,
   "metadata": {
    "colab": {
     "base_uri": "https://localhost:8080/",
     "height": 516
    },
    "colab_type": "code",
    "id": "kpbUuZ1D-YtA",
    "outputId": "18bb66a4-4292-4c30-b434-7d7df42209b3"
   },
   "outputs": [],
   "source": [
    "plt.figure(figsize = (15,8))\n",
    "df_grp['budget'].plot(kind = 'bar')\n",
    "plt.title('bar chart')\n",
    "plt.ylabel('budget')\n",
    "plt.xlabel('language')\n",
    "plt.show();"
   ]
  },
  {
   "cell_type": "markdown",
   "metadata": {
    "colab_type": "text",
    "id": "QHYhknvgYpL8"
   },
   "source": [
    "### 2. What is the frequency distribution of the runtime?"
   ]
  },
  {
   "cell_type": "code",
   "execution_count": null,
   "metadata": {
    "colab": {
     "base_uri": "https://localhost:8080/",
     "height": 295
    },
    "colab_type": "code",
    "id": "mOmxvWowxNiF",
    "outputId": "fe280659-909c-4e9d-f275-afb0e2fa6d05"
   },
   "outputs": [],
   "source": [
    "df['runtime'].plot(kind = 'hist')\n",
    "plt.title('Histogram of runtime of movies')\n",
    "plt.ylabel('number of movies')\n",
    "plt.xlabel('runtime (in minutes)')\n",
    "plt.show();"
   ]
  },
  {
   "cell_type": "markdown",
   "metadata": {
    "colab_type": "text",
    "id": "0rl3taayYmku"
   },
   "source": [
    "### 3. The era of the 90s RomCom. Was that really a thing?"
   ]
  },
  {
   "cell_type": "code",
   "execution_count": null,
   "metadata": {
    "colab": {
     "base_uri": "https://localhost:8080/",
     "height": 136
    },
    "colab_type": "code",
    "id": "X4rNwxSXcQhq",
    "outputId": "0690a5a5-e709-45c1-9797-3a6d0468343b"
   },
   "outputs": [],
   "source": [
    "df.columns"
   ]
  },
  {
   "cell_type": "code",
   "execution_count": null,
   "metadata": {
    "colab": {
     "base_uri": "https://localhost:8080/",
     "height": 289
    },
    "colab_type": "code",
    "id": "XEhtuYbwcVHz",
    "outputId": "c6252d78-9da7-40ea-b4ca-377150ec3cb4"
   },
   "outputs": [],
   "source": [
    "df[['original_title', 'genres', 'popularity', 'vote_average', 'release_date']].head()"
   ]
  },
  {
   "cell_type": "code",
   "execution_count": null,
   "metadata": {
    "colab": {},
    "colab_type": "code",
    "id": "6S4kXUXZa46D"
   },
   "outputs": [],
   "source": [
    "def is_rom_com(genres):\n",
    "    if ('Romance' in genres) and ('Comedy' in genres):\n",
    "        return 1\n",
    "    else:\n",
    "        return 0\n",
    "\n",
    "# data processing\n",
    "# - convert release_date str to datetime object\n",
    "# - identify genres assigned to a movie\n",
    "# - drop non-meaningful values in release_date\n",
    "df = df[df['release_date'] != '1']\n",
    "df = df[df['release_date'] != '12']\n",
    "df = df[df['release_date'] != '22']\n",
    "df.dropna(subset=['release_date'], inplace=True)\n",
    "df['is_rom_com'] = df['genres'].apply(lambda x: is_rom_com([genre['name'] for genre in eval(x)]))\n",
    "df['release_year'] = df['release_date'].apply(lambda y: dt.datetime.strptime(y, '%Y-%m-%d').year)\n",
    "rom_coms_by_year = df.groupby(['release_year'])['is_rom_com'].sum()"
   ]
  },
  {
   "cell_type": "code",
   "execution_count": null,
   "metadata": {
    "colab": {},
    "colab_type": "code",
    "id": "2EB-ZNM5L7i4"
   },
   "outputs": [],
   "source": [
    "rom_coms_by_year.tail()"
   ]
  },
  {
   "cell_type": "code",
   "execution_count": null,
   "metadata": {
    "colab": {
     "base_uri": "https://localhost:8080/",
     "height": 533
    },
    "colab_type": "code",
    "id": "lK_al32bZUwa",
    "outputId": "fcb7a906-25f7-4499-a1e5-5d8f89c1d74c"
   },
   "outputs": [],
   "source": [
    "figsize = (15,8)\n",
    "plt.figure(1, figsize=figsize)\n",
    "plt.plot(rom_coms_by_year.index, rom_coms_by_year.values)\n",
    "plt.title('Number of romantic comedy films over time')\n",
    "plt.ylabel('count')\n",
    "plt.xlabel('Number of films');\n"
   ]
  },
  {
   "cell_type": "markdown",
   "metadata": {
    "colab_type": "text",
    "id": "TPnUz3FHhc7p"
   },
   "source": [
    "### 4. Is there a relationship between a movie's rating and the amount of revenue it generates?"
   ]
  },
  {
   "cell_type": "code",
   "execution_count": null,
   "metadata": {
    "colab": {
     "base_uri": "https://localhost:8080/",
     "height": 533
    },
    "colab_type": "code",
    "id": "VkO72MQ9hce-",
    "outputId": "94cca6be-e4cd-4257-8273-97d0cc29b2c7"
   },
   "outputs": [],
   "source": [
    "plt.figure(2, figsize=figsize)\n",
    "plt.plot(df['vote_average'], df['revenue'], '.')\n",
    "plt.title('Revenue by ratings')\n",
    "plt.ylabel('Revenue')\n",
    "plt.xlabel('Average vote');"
   ]
  },
  {
   "cell_type": "code",
   "execution_count": null,
   "metadata": {
    "colab": {
     "base_uri": "https://localhost:8080/",
     "height": 533
    },
    "colab_type": "code",
    "id": "xr0684fgitEj",
    "outputId": "efe424c9-fff2-48b6-b338-2fedb3776803"
   },
   "outputs": [],
   "source": [
    "plt.figure(3, figsize=figsize)\n",
    "plt.bar(df['vote_average'], df['revenue'])\n",
    "plt.title('Revenue by ratings')\n",
    "plt.ylabel('Revenue')\n",
    "plt.xlabel('Average vote');"
   ]
  },
  {
   "cell_type": "markdown",
   "metadata": {
    "colab_type": "text",
    "id": "YGHBobHt3uc_"
   },
   "source": [
    "# Potential questions\n",
    "Are foreign langauge films higher rated?"
   ]
  },
  {
   "cell_type": "markdown",
   "metadata": {
    "colab_type": "text",
    "id": "SPAqhh1UXyVc"
   },
   "source": [
    "#References + Resources\n",
    "- [Python Graphy Gallery](https://python-graph-gallery.com/). A website that features a collection of graphs and reproducible python code to generate those graphs. \n",
    "- [Pyviz](http://pyviz.org/). An open platform dedicated to helping users decide on the best open-source (OSS) Python data visualization tools. \n",
    "- [Matplotlib](http://aosabook.org/en/matplotlib.html). An article about the history and architecture of Matplotlib, written by its founders. \n",
    "- [Python Data Science Handbook](https://jakevdp.github.io/PythonDataScienceHandbook/) by Jake VanderPlas\n",
    "- The dataset is assembled by user rounakbanik on Kaggle. Learn more about her project [here](https://www.kaggle.com/rounakbanik/the-movies-dataset). \n",
    "- [Python Grids](http://www.pythongrids.org/grids/g/data-visualization/) is a website that compares stats on 14 Python plotting libraries.\n"
   ]
  }
 ],
 "metadata": {
  "colab": {
   "name": "movieviz.ipynb",
   "provenance": []
  },
  "kernelspec": {
   "display_name": "Python 3",
   "language": "python",
   "name": "python3"
  },
  "language_info": {
   "codemirror_mode": {
    "name": "ipython",
    "version": 3
   },
   "file_extension": ".py",
   "mimetype": "text/x-python",
   "name": "python",
   "nbconvert_exporter": "python",
   "pygments_lexer": "ipython3",
   "version": "3.7.3"
  }
 },
 "nbformat": 4,
 "nbformat_minor": 1
}
